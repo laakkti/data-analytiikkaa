{
 "cells": [
  {
   "cell_type": "markdown",
   "id": "09cb3ae8",
   "metadata": {},
   "source": [
    "\n",
<<<<<<< HEAD
    "# Pyöräilyaktiviteettien analytiikkaa"
=======
    "# Pyöräilyaktiviteettien analytikkaa"
>>>>>>> df3b04db68cf56efd37e5aec132f1747affdea00
   ]
  },
  {
   "cell_type": "markdown",
   "id": "0165c0ea",
   "metadata": {},
   "source": [
    "Joskus haluaisi pyöräilyaktiviteeteista tietoja/yhteenvetoja/vertailuja, joita Strava-palvelun ilmainen versio ei tarjoa."
   ]
  },
  {
   "cell_type": "markdown",
   "id": "f32ad4a4",
   "metadata": {},
   "source": [
    "### Aineisto\n",
    "\n",
    "Aineistoksi valitsin omat pyöräilyaktiviteetit viimeisen 10 vuoden ajalta. \\\n",
    "Data on tallenettu Strava-palveluun \\\n",
    "https://www.strava.com  \\\n",
    "Data saadaan tilattua zip-pakettina sähköpostiin.\n"
   ]
  },
  {
   "cell_type": "markdown",
   "id": "b846c601",
   "metadata": {},
   "source": [
    "### Datan esikäsittely   \n",
    "Ennen esikäsittelyä tulee määrittää mitä datalla halutaan tehdä, mikä on päämäärä. \\\n",
    "Esikäsittelyä ei välttämättä tehdä heti alkuun kokonaan vaan tarpeen mukaan ja tapauskohtaisesti. \\\n",
    "Kone- ja syväoppimisen tulosten kannalta on tärkeää, että 1. vaiheen eli esikäsittelyn tuloksena data on \\\n",
    "virheetöntä ja eheää. Mikään menetelmä ei osaa korvata/korjata huonosti valmisteltua aineistoa/dataa. \\\n",
    "Tämän tehtävän esikäsittelyn yksi tarkoitus on selvittää ja määrittää se mihin suureisiin aineiston aktiviteettien \\\n",
    "hyvyysluokitus voidaan perustaa. Tarkoituksena on luokitella aktiviteetit kouluarosanoin 0-5.\\\n",
    "Luokituksen vuoksi keskitytään sen kannalta oleellisiin suureisiin."
   ]
  },
  {
   "cell_type": "code",
   "execution_count": 10,
   "id": "1e3a6d6d",
   "metadata": {
    "scrolled": false
   },
   "outputs": [
    {
     "name": "stdout",
     "output_type": "stream",
     "text": [
      "Pyöräilyaktiviteetteja yhteensä 2502\n",
      "\n",
      "Eri kenttien NaN -arvojen summat:\n"
     ]
    },
    {
     "data": {
      "text/plain": [
       "Activity ID              0\n",
       "Activity Name            0\n",
       "Activity Date            0\n",
       "Moving Time              0\n",
       "Distance                 0\n",
       "Average Speed         1642\n",
       "Average Heart Rate    1305\n",
       "Max Heart Rate        1301\n",
       "Average Watts           37\n",
       "Calories               656\n",
       "dtype: int64"
      ]
     },
     "metadata": {},
     "output_type": "display_data"
    }
   ],
   "source": [
    "import pandas as pd\n",
    "import matplotlib.pyplot as plt\n",
    "import seaborn as sns\n",
    "from sklearn.model_selection import train_test_split\n",
    "import numpy as np\n",
    "import warnings\n",
    "warnings.filterwarnings('ignore')\n",
    "pd.options.display.max_rows = 4000\n",
    "\n",
    "df = pd.read_csv(\"./data/activities.csv\",delimiter=\",\")\n",
    "\n",
    "# valitaan nimenomaan pyöräily aktiviteetit\n",
    "df = df[df['Activity Type'] == 'Ride']\n",
    "\n",
    "columns=['Activity ID','Activity Name','Activity Date','Moving Time','Distance','Average Speed','Average Heart Rate','Max Heart Rate','Average Watts','Calories']\n",
    "df=df[columns]\n",
    "\n",
    "\n",
    "# tutkitaan aluksi NaN kentät\n",
    "# näiden suodatus datasta tehdään tapauskohtaisesti\n",
    "print(f'Pyöräilyaktiviteetteja yhteensä {df.shape[0]}')\n",
    "print()\n",
    "print(\"Eri kenttien NaN -arvojen summat:\")\n",
    "display(df.isna().sum())\n"
   ]
  },
  {
   "cell_type": "markdown",
   "id": "624a5713",
   "metadata": {},
   "source": [
    "Datan puutteet näyttävät pahoilta usean suureen osalta. Tehtävän kannalta ne eivät ole kuitenkaan oleellisia vaan \\\n",
    "antaisivat ollessaan pientä lisäarvoa. Koska tarkoituksena on huomioida aktiviteettien dataa ajalta 2012-2022, \\\n",
    "niin poistetaan ko. kenttien huomioiminen. \\\n",
    "Seuraavassa kuitenkin selvitystä siitä mistä puutteet saattavat johtua."
   ]
  },
  {
   "cell_type": "markdown",
   "id": "1f1e5959",
   "metadata": {},
   "source": [
    "#### Average Speed"
   ]
  },
  {
   "cell_type": "markdown",
   "id": "ef77fa18",
   "metadata": {},
   "source": [
    "Puutteet datassa johtunee siitä, että osa datasta on siirretty toisesta palvelusta Strava-palveluun \\\n",
    "ja ko. suuretta palvelu ei ole laskenut vaan laskee sen ainostaan heti uuden aktiviteetin latauksen yhteydessä."
   ]
  },
  {
   "cell_type": "markdown",
   "id": "f3fd3309",
   "metadata": {},
   "source": [
    "<div style=\"background-color:GhostWhite;padding-left:10px\">    \n",
    "\n",
    "Koska 'Average Speed' sarakkeessa on aivan liikaa puuttuvaa dataa, analyysit jäisivät sen osalta paljon suppeammiksi. <br>\n",
    "Onneksi arvot voidaan korvata johtamalla/laskemalla ne 'Distance' ja 'Moving Time' kenttien arvoista, <br> \n",
    "samalla sarakkeiden arvot tulevat olemaan tutumpaa muotoa km/h.\n",
    "</div>"
   ]
  },
  {
   "cell_type": "code",
   "execution_count": 11,
   "id": "0edb26b8",
   "metadata": {},
   "outputs": [],
   "source": [
    "df['Average Speed']=df['Distance'] / (df['Moving Time'] / 3600)"
   ]
  },
  {
   "cell_type": "markdown",
   "id": "563f1d38",
   "metadata": {},
   "source": [
    "#### Heart Rate (Average, Max)"
   ]
  },
  {
   "cell_type": "markdown",
   "id": "ba0ab796",
   "metadata": {},
   "source": [
    "Puutteet datassa yksinkertaisesti johtuu siitä ettei sykemittausta ole ollut käytössä kaikkina kertoina."
   ]
  },
  {
   "cell_type": "markdown",
   "id": "7510f606",
   "metadata": {},
   "source": [
    "#### Average Watts"
   ]
  },
  {
   "cell_type": "markdown",
   "id": "146ee289",
   "metadata": {},
   "source": [
    "Ei varsinaista selitystä, kysessä on palvelun laskema estimaatti, joka on jäänyt laskematta syystä tai toisesta."
   ]
  },
  {
   "cell_type": "markdown",
   "id": "dd21d9be",
   "metadata": {},
   "source": [
    "#### Calories"
   ]
  },
  {
   "cell_type": "markdown",
   "id": "83068367",
   "metadata": {},
   "source": [
    "Samoin kuin 'Average Watts' kyseessä on palvelun laskema estimaatti, joka on syystä tai toisesta jäänyt laskematta. "
   ]
  },
  {
   "cell_type": "code",
   "execution_count": 12,
   "id": "701da4d4",
   "metadata": {},
   "outputs": [
    {
     "data": {
      "text/plain": [
       "Activity Name    0\n",
       "Activity Date    0\n",
       "Moving Time      0\n",
       "Distance         0\n",
       "Average Speed    0\n",
       "Average Watts    0\n",
       "dtype: int64"
      ]
     },
     "metadata": {},
     "output_type": "display_data"
    },
    {
     "data": {
      "text/plain": [
       "2465"
      ]
     },
     "metadata": {},
     "output_type": "display_data"
    }
   ],
   "source": [
    "# poistetaan em. vuoksi eräitä sarakkeita dataframesta\n",
    "df2 = df.drop(['Activity ID','Max Heart Rate','Average Heart Rate','Calories'], axis=1)\n",
    "# poistetaan ne rivit joissa 'Average Watts' on NaN\n",
    "rowsToDrop = df2.loc[(df2['Average Watts'].isnull())].index\n",
    "df2.drop(rowsToDrop,inplace=True) \n",
    "display(df2.isna().sum())\n",
    "display(df2.shape[0])"
   ]
  },
  {
   "cell_type": "markdown",
   "id": "2fa858de",
   "metadata": {},
   "source": [
    "Nyt näyttää hyvältä"
   ]
  },
  {
   "cell_type": "markdown",
   "id": "838652ba",
   "metadata": {},
   "source": [
    "### Poikkeavat arvot\n",
    "Esim. seaborn regplot-metodilla voidaan visualisoida dataa hyvin yksinkertaisesti. \\\n",
    "Kaaviosta voidaan helposti huomata poikkeavat arvot."
   ]
  },
  {
   "cell_type": "code",
   "execution_count": 4,
   "id": "b42d50ce",
   "metadata": {
    "scrolled": false
   },
   "outputs": [
    {
     "data": {
      "image/png": "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\n",
      "text/plain": [
       "<Figure size 432x288 with 1 Axes>"
      ]
     },
     "metadata": {},
     "output_type": "display_data"
    },
    {
     "name": "stdout",
     "output_type": "stream",
     "text": [
      "(2465, 6)\n"
     ]
    }
   ],
   "source": [
    "def regplot(df,columns):\n",
    "    sns.set_style('dark')\n",
    "    plt.figure()\n",
    "    \n",
    "    #plt.gcf().set_size_inches(17, 10)\n",
    "    columns=columns\n",
    "    sns.regplot(x = columns[0] , \n",
    "                    y = columns[1], \n",
    "                    data = df,scatter_kws={\"color\": \"orange\",'s':10}, line_kws={\"color\": \"black\"},ci=None)\n",
    "    plt.show()\n",
    "    \n",
    "regplot(df2,['Distance','Average Speed'])\n",
    "print(df2.shape)"
   ]
  },
  {
   "cell_type": "markdown",
   "id": "9528dad3",
   "metadata": {},
   "source": [
    "Huomataan, että muutama nopeus-arvo on liian suuri. \\\n",
    "Koska edellä Average Speed johdettiin Distance ja 'Moving Time' arvoista niin jompi kumpi on kirjautunut väärin. \\\n",
    "Kyseiset datarivit poistetaan koska emme halua virheellistä dataa analyyseihin vääristämään tulosta. \\\n",
    "Tiedän kokemuksesta, että yli 36km/h keskinopeus on pielessä ellei ole kysymys hyvin lyhyestä testistä, jos näin niin \\\n",
    "ei kelpuuteta analyyseihin erityistapauksia. \\\n",
    "Tulostetaan kaikki yli 36 km/h suoritukset, sekä alle 5km pituiset suoritukset."
   ]
  },
  {
   "cell_type": "code",
   "execution_count": 13,
   "id": "567d1b96",
   "metadata": {
    "scrolled": false
   },
   "outputs": [
    {
     "data": {
      "text/html": [
       "<div>\n",
       "<style scoped>\n",
       "    .dataframe tbody tr th:only-of-type {\n",
       "        vertical-align: middle;\n",
       "    }\n",
       "\n",
       "    .dataframe tbody tr th {\n",
       "        vertical-align: top;\n",
       "    }\n",
       "\n",
       "    .dataframe thead th {\n",
       "        text-align: right;\n",
       "    }\n",
       "</style>\n",
       "<table border=\"1\" class=\"dataframe\">\n",
       "  <thead>\n",
       "    <tr style=\"text-align: right;\">\n",
       "      <th></th>\n",
       "      <th>Activity Name</th>\n",
       "      <th>Activity Date</th>\n",
       "      <th>Moving Time</th>\n",
       "      <th>Distance</th>\n",
       "      <th>Average Speed</th>\n",
       "      <th>Average Watts</th>\n",
       "    </tr>\n",
       "  </thead>\n",
       "  <tbody>\n",
       "    <tr>\n",
       "      <th>629</th>\n",
       "      <td>03/06/2015 Torremolinos, Andalucía, Spain</td>\n",
       "      <td>Jun 3, 2015, 11:53:55 AM</td>\n",
       "      <td>544.0</td>\n",
       "      <td>5.72</td>\n",
       "      <td>37.852941</td>\n",
       "      <td>457.566010</td>\n",
       "    </tr>\n",
       "    <tr>\n",
       "      <th>1929</th>\n",
       "      <td>Evening Ride</td>\n",
       "      <td>May 25, 2012, 4:36:48 PM</td>\n",
       "      <td>971.0</td>\n",
       "      <td>11.55</td>\n",
       "      <td>42.821833</td>\n",
       "      <td>203.528549</td>\n",
       "    </tr>\n",
       "    <tr>\n",
       "      <th>2057</th>\n",
       "      <td>Afternoon Ride</td>\n",
       "      <td>Jun 26, 2014, 12:48:12 PM</td>\n",
       "      <td>4565.0</td>\n",
       "      <td>63.81</td>\n",
       "      <td>50.321139</td>\n",
       "      <td>609.448181</td>\n",
       "    </tr>\n",
       "  </tbody>\n",
       "</table>\n",
       "</div>"
      ],
      "text/plain": [
       "                                  Activity Name              Activity Date  \\\n",
       "629   03/06/2015 Torremolinos, Andalucía, Spain   Jun 3, 2015, 11:53:55 AM   \n",
       "1929                               Evening Ride   May 25, 2012, 4:36:48 PM   \n",
       "2057                             Afternoon Ride  Jun 26, 2014, 12:48:12 PM   \n",
       "\n",
       "      Moving Time  Distance  Average Speed  Average Watts  \n",
       "629         544.0      5.72      37.852941     457.566010  \n",
       "1929        971.0     11.55      42.821833     203.528549  \n",
       "2057       4565.0     63.81      50.321139     609.448181  "
      ]
     },
     "metadata": {},
     "output_type": "display_data"
    },
    {
     "data": {
      "text/html": [
       "<div>\n",
       "<style scoped>\n",
       "    .dataframe tbody tr th:only-of-type {\n",
       "        vertical-align: middle;\n",
       "    }\n",
       "\n",
       "    .dataframe tbody tr th {\n",
       "        vertical-align: top;\n",
       "    }\n",
       "\n",
       "    .dataframe thead th {\n",
       "        text-align: right;\n",
       "    }\n",
       "</style>\n",
       "<table border=\"1\" class=\"dataframe\">\n",
       "  <thead>\n",
       "    <tr style=\"text-align: right;\">\n",
       "      <th></th>\n",
       "      <th>Activity Name</th>\n",
       "      <th>Activity Date</th>\n",
       "      <th>Moving Time</th>\n",
       "      <th>Distance</th>\n",
       "      <th>Average Speed</th>\n",
       "      <th>Average Watts</th>\n",
       "    </tr>\n",
       "  </thead>\n",
       "  <tbody>\n",
       "    <tr>\n",
       "      <th>52</th>\n",
       "      <td>11/11/2013 Málaga, Andalucía, Spain</td>\n",
       "      <td>Nov 11, 2013, 1:14:10 PM</td>\n",
       "      <td>615.0</td>\n",
       "      <td>3.87</td>\n",
       "      <td>22.653659</td>\n",
       "      <td>287.355988</td>\n",
       "    </tr>\n",
       "    <tr>\n",
       "      <th>66</th>\n",
       "      <td>01/15/2013 Tampere, Finland, Pirkanmaa, Finland</td>\n",
       "      <td>Jan 15, 2013, 10:57:29 AM</td>\n",
       "      <td>120.0</td>\n",
       "      <td>1.03</td>\n",
       "      <td>30.900000</td>\n",
       "      <td>237.153000</td>\n",
       "    </tr>\n",
       "    <tr>\n",
       "      <th>67</th>\n",
       "      <td>01/22/2013 Tampere, Finland, Pirkanmaa, Finland</td>\n",
       "      <td>Jan 22, 2013, 10:01:50 AM</td>\n",
       "      <td>787.0</td>\n",
       "      <td>3.90</td>\n",
       "      <td>17.839898</td>\n",
       "      <td>229.059998</td>\n",
       "    </tr>\n",
       "    <tr>\n",
       "      <th>69</th>\n",
       "      <td>01/22/2013 Tampere, Finland, Pirkanmaa, Finland</td>\n",
       "      <td>Jan 22, 2013, 10:47:52 AM</td>\n",
       "      <td>470.0</td>\n",
       "      <td>2.10</td>\n",
       "      <td>16.085106</td>\n",
       "      <td>251.947006</td>\n",
       "    </tr>\n",
       "    <tr>\n",
       "      <th>70</th>\n",
       "      <td>01/22/2013 Tampere, Finland, Pirkanmaa, Finland</td>\n",
       "      <td>Jan 22, 2013, 10:30:15 AM</td>\n",
       "      <td>489.0</td>\n",
       "      <td>2.63</td>\n",
       "      <td>19.361963</td>\n",
       "      <td>272.729004</td>\n",
       "    </tr>\n",
       "  </tbody>\n",
       "</table>\n",
       "</div>"
      ],
      "text/plain": [
       "                                      Activity Name  \\\n",
       "52              11/11/2013 Málaga, Andalucía, Spain   \n",
       "66  01/15/2013 Tampere, Finland, Pirkanmaa, Finland   \n",
       "67  01/22/2013 Tampere, Finland, Pirkanmaa, Finland   \n",
       "69  01/22/2013 Tampere, Finland, Pirkanmaa, Finland   \n",
       "70  01/22/2013 Tampere, Finland, Pirkanmaa, Finland   \n",
       "\n",
       "                Activity Date  Moving Time  Distance  Average Speed  \\\n",
       "52   Nov 11, 2013, 1:14:10 PM        615.0      3.87      22.653659   \n",
       "66  Jan 15, 2013, 10:57:29 AM        120.0      1.03      30.900000   \n",
       "67  Jan 22, 2013, 10:01:50 AM        787.0      3.90      17.839898   \n",
       "69  Jan 22, 2013, 10:47:52 AM        470.0      2.10      16.085106   \n",
       "70  Jan 22, 2013, 10:30:15 AM        489.0      2.63      19.361963   \n",
       "\n",
       "    Average Watts  \n",
       "52     287.355988  \n",
       "66     237.153000  \n",
       "67     229.059998  \n",
       "69     251.947006  \n",
       "70     272.729004  "
      ]
     },
     "metadata": {},
     "output_type": "display_data"
    },
    {
     "name": "stdout",
     "output_type": "stream",
     "text": [
      "57\n"
     ]
    }
   ],
   "source": [
    "tulosta=df2.loc[(df2['Average Speed']>36)]\n",
    "display(tulosta)\n",
    "\n",
    "tulosta=df2.loc[(df2['Distance']<5)]\n",
    "display(tulosta[:5])\n",
    "print(len(tulosta))"
   ]
  },
  {
   "cell_type": "markdown",
   "id": "881f29fb",
   "metadata": {},
   "source": [
    "Koska em. arvot eivät ole normaaleja, poistetaan ko. rivit datasetistä ja tarkistetaan ja visualisoidaan tilanne uudestaan.\n"
   ]
  },
  {
   "cell_type": "code",
   "execution_count": 14,
   "id": "1bbba379",
   "metadata": {},
   "outputs": [
    {
     "name": "stdout",
     "output_type": "stream",
     "text": [
      "Empty DataFrame\n",
      "Columns: [Activity Name, Activity Date, Moving Time, Distance, Average Speed, Average Watts]\n",
      "Index: []\n",
      "0\n"
     ]
    }
   ],
   "source": [
    "# rajataan pois epäkurrantteja rivejä\n",
    "df2=df2.loc[~(df2['Average Speed']>35)]\n",
    "df2=df2.loc[~(df2['Distance']<5)]\n",
    "\n",
    "# tarkistetaan, että em. toimenpiteet toteutuivat\n",
    "tulosta=df2.loc[(df2['Average Speed']>35)]\n",
    "print(tulosta)\n",
    "tulosta=df2.loc[(df2['Distance']<5)]\n",
    "print(len(tulosta))\n"
   ]
  },
  {
   "cell_type": "code",
   "execution_count": 110,
   "id": "edc641e2",
   "metadata": {},
   "outputs": [
    {
     "data": {
      "image/png": "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\n",
      "text/plain": [
       "<Figure size 432x288 with 1 Axes>"
      ]
     },
     "metadata": {},
     "output_type": "display_data"
    },
    {
     "data": {
      "text/plain": [
       "(2404, 6)"
      ]
     },
     "execution_count": 110,
     "metadata": {},
     "output_type": "execute_result"
    }
   ],
   "source": [
    "regplot(df2,['Distance','Average Speed'])\n",
    "(df2.shape)"
   ]
  },
  {
   "cell_type": "markdown",
   "id": "d9c72368",
   "metadata": {},
   "source": [
    "Voidaan havaita, että poikkeavien arvojen poisto onnistui."
   ]
  },
  {
   "cell_type": "markdown",
   "id": "523b54d1",
   "metadata": {},
   "source": [
    "### Riippuvuussuhteet/korrelaatiot"
   ]
  },
  {
   "cell_type": "code",
   "execution_count": 16,
   "id": "36d7a22c",
   "metadata": {},
   "outputs": [
    {
     "data": {
      "text/html": [
       "<div>\n",
       "<style scoped>\n",
       "    .dataframe tbody tr th:only-of-type {\n",
       "        vertical-align: middle;\n",
       "    }\n",
       "\n",
       "    .dataframe tbody tr th {\n",
       "        vertical-align: top;\n",
       "    }\n",
       "\n",
       "    .dataframe thead th {\n",
       "        text-align: right;\n",
       "    }\n",
       "</style>\n",
       "<table border=\"1\" class=\"dataframe\">\n",
       "  <thead>\n",
       "    <tr style=\"text-align: right;\">\n",
       "      <th></th>\n",
       "      <th>Moving Time</th>\n",
       "      <th>Distance</th>\n",
       "      <th>Average Speed</th>\n",
       "      <th>Average Watts</th>\n",
       "    </tr>\n",
       "  </thead>\n",
       "  <tbody>\n",
       "    <tr>\n",
       "      <th>Moving Time</th>\n",
       "      <td>1.000000</td>\n",
       "      <td>0.974971</td>\n",
       "      <td>0.168723</td>\n",
       "      <td>0.064662</td>\n",
       "    </tr>\n",
       "    <tr>\n",
       "      <th>Distance</th>\n",
       "      <td>0.974971</td>\n",
       "      <td>1.000000</td>\n",
       "      <td>0.359912</td>\n",
       "      <td>0.220676</td>\n",
       "    </tr>\n",
       "    <tr>\n",
       "      <th>Average Speed</th>\n",
       "      <td>0.168723</td>\n",
       "      <td>0.359912</td>\n",
       "      <td>1.000000</td>\n",
       "      <td>0.847092</td>\n",
       "    </tr>\n",
       "    <tr>\n",
       "      <th>Average Watts</th>\n",
       "      <td>0.064662</td>\n",
       "      <td>0.220676</td>\n",
       "      <td>0.847092</td>\n",
       "      <td>1.000000</td>\n",
       "    </tr>\n",
       "  </tbody>\n",
       "</table>\n",
       "</div>"
      ],
      "text/plain": [
       "               Moving Time  Distance  Average Speed  Average Watts\n",
       "Moving Time       1.000000  0.974971       0.168723       0.064662\n",
       "Distance          0.974971  1.000000       0.359912       0.220676\n",
       "Average Speed     0.168723  0.359912       1.000000       0.847092\n",
       "Average Watts     0.064662  0.220676       0.847092       1.000000"
      ]
     },
     "metadata": {},
     "output_type": "display_data"
    },
    {
     "data": {
      "image/png": "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\n",
      "text/plain": [
       "<Figure size 432x288 with 2 Axes>"
      ]
     },
     "metadata": {},
     "output_type": "display_data"
    }
   ],
   "source": [
    "display(df2.corr())\n",
    "\n",
    "sns.heatmap(df2.corr(), annot=True, fmt=\".2f\", square = True)\n",
    "plt.show()"
   ]
  },
  {
   "cell_type": "markdown",
   "id": "b71b321d",
   "metadata": {},
   "source": [
    "Se mikä kiinnostaa niin suureilla 'Average Speed' ja 'Average Watts' näyttäisi olevan melko hyvä riippuvuussuhde. "
   ]
  },
  {
   "cell_type": "markdown",
   "id": "53ffd0d9",
   "metadata": {},
   "source": [
    "Muutetaan vielä aktiviteetin aikaleimaa sopivampaan/helpompaan muotoon\\\n",
    "ja lisätään muutama aikasarake valmiiksi niin on helpompi tehdä yhteenvetoja/analyysia aikajaksoihin liittyen."
   ]
  },
  {
   "cell_type": "code",
   "execution_count": 17,
   "id": "4c38c364",
   "metadata": {},
   "outputs": [],
   "source": [
    "# muutetaan formaati toiseksi niin on helpompi käsitellä\n",
    "df2['Activity DateTime']=pd.to_datetime(df2['Activity Date'])\n",
    "\n",
    "# lisätään pari kenttää\n",
    "df2['Year'] = df2['Activity DateTime'].dt.year\n",
    "df2['Month'] = df2['Activity DateTime'].dt.month\n",
    "df2['Week'] = df2['Activity DateTime'].dt.isocalendar().week \n",
    "df2['Dayofweek'] = df2['Activity DateTime'].dt.dayofweek\n",
    "df2['Daynameofweek'] = df2['Activity DateTime'].dt.day_name()\n"
   ]
  },
  {
   "cell_type": "markdown",
   "id": "8123f473",
   "metadata": {},
   "source": [
    "## Aineiston analysointia"
   ]
  },
  {
   "cell_type": "markdown",
   "id": "b5f2b655",
   "metadata": {},
   "source": [
    "#### Datan tunnusluvut \n",
    "Valittujen suureiden tunnusluvut saadaan helposti yhdellä kertaa esille dataframen decribe-funktiolla."
   ]
  },
  {
   "cell_type": "code",
   "execution_count": 18,
   "id": "59b52ab7",
   "metadata": {},
   "outputs": [
    {
     "data": {
      "text/html": [
       "<div>\n",
       "<style scoped>\n",
       "    .dataframe tbody tr th:only-of-type {\n",
       "        vertical-align: middle;\n",
       "    }\n",
       "\n",
       "    .dataframe tbody tr th {\n",
       "        vertical-align: top;\n",
       "    }\n",
       "\n",
       "    .dataframe thead th {\n",
       "        text-align: right;\n",
       "    }\n",
       "</style>\n",
       "<table border=\"1\" class=\"dataframe\">\n",
       "  <thead>\n",
       "    <tr style=\"text-align: right;\">\n",
       "      <th></th>\n",
       "      <th>Moving Time</th>\n",
       "      <th>Distance</th>\n",
       "      <th>Average Speed</th>\n",
       "      <th>Average Watts</th>\n",
       "    </tr>\n",
       "  </thead>\n",
       "  <tbody>\n",
       "    <tr>\n",
       "      <th>count</th>\n",
       "      <td>2404.000000</td>\n",
       "      <td>2404.000000</td>\n",
       "      <td>2404.000000</td>\n",
       "      <td>2404.000000</td>\n",
       "    </tr>\n",
       "    <tr>\n",
       "      <th>mean</th>\n",
       "      <td>3543.536606</td>\n",
       "      <td>24.742517</td>\n",
       "      <td>24.872511</td>\n",
       "      <td>274.825229</td>\n",
       "    </tr>\n",
       "    <tr>\n",
       "      <th>std</th>\n",
       "      <td>1818.553108</td>\n",
       "      <td>13.545253</td>\n",
       "      <td>3.053123</td>\n",
       "      <td>42.288627</td>\n",
       "    </tr>\n",
       "    <tr>\n",
       "      <th>min</th>\n",
       "      <td>650.000000</td>\n",
       "      <td>5.020000</td>\n",
       "      <td>5.483304</td>\n",
       "      <td>52.061058</td>\n",
       "    </tr>\n",
       "    <tr>\n",
       "      <th>25%</th>\n",
       "      <td>2309.750000</td>\n",
       "      <td>15.320000</td>\n",
       "      <td>23.087130</td>\n",
       "      <td>249.701523</td>\n",
       "    </tr>\n",
       "    <tr>\n",
       "      <th>50%</th>\n",
       "      <td>3053.000000</td>\n",
       "      <td>21.020000</td>\n",
       "      <td>25.534660</td>\n",
       "      <td>280.815506</td>\n",
       "    </tr>\n",
       "    <tr>\n",
       "      <th>75%</th>\n",
       "      <td>4273.500000</td>\n",
       "      <td>30.335000</td>\n",
       "      <td>27.030117</td>\n",
       "      <td>305.075500</td>\n",
       "    </tr>\n",
       "    <tr>\n",
       "      <th>max</th>\n",
       "      <td>17522.000000</td>\n",
       "      <td>111.070000</td>\n",
       "      <td>33.798009</td>\n",
       "      <td>373.770325</td>\n",
       "    </tr>\n",
       "  </tbody>\n",
       "</table>\n",
       "</div>"
      ],
      "text/plain": [
       "        Moving Time     Distance  Average Speed  Average Watts\n",
       "count   2404.000000  2404.000000    2404.000000    2404.000000\n",
       "mean    3543.536606    24.742517      24.872511     274.825229\n",
       "std     1818.553108    13.545253       3.053123      42.288627\n",
       "min      650.000000     5.020000       5.483304      52.061058\n",
       "25%     2309.750000    15.320000      23.087130     249.701523\n",
       "50%     3053.000000    21.020000      25.534660     280.815506\n",
       "75%     4273.500000    30.335000      27.030117     305.075500\n",
       "max    17522.000000   111.070000      33.798009     373.770325"
      ]
     },
     "metadata": {},
     "output_type": "display_data"
    }
   ],
   "source": [
    "columns=['Moving Time','Distance','Average Speed','Average Watts']\n",
    "display(df2[columns].describe())"
   ]
  },
  {
   "cell_type": "markdown",
   "id": "2f68f30d",
   "metadata": {},
   "source": [
    "#### Datan visualisointi\n",
    "Datan visualisointi on tärkeä osa analytiikkaa.\n",
    "Dataa voidaan kätevästi ja yksinkertaisesti esittää visualisesti, esim. seuraavassa keskeisten muuttujien historgrammit   "
   ]
  },
  {
   "cell_type": "code",
   "execution_count": 63,
   "id": "c272fb05",
   "metadata": {
    "scrolled": false
   },
   "outputs": [
    {
     "data": {
      "text/plain": [
       "[]"
      ]
     },
     "execution_count": 63,
     "metadata": {},
     "output_type": "execute_result"
    },
    {
     "data": {
      "image/png": "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\n",
      "text/plain": [
       "<Figure size 1440x1080 with 4 Axes>"
      ]
     },
     "metadata": {},
     "output_type": "display_data"
    }
   ],
   "source": [
    "df2[columns].hist(bins=50,figsize=(20,15))\n",
    "plt.plot()"
   ]
  },
  {
   "cell_type": "markdown",
   "id": "61512fe5",
   "metadata": {},
   "source": [
    "**Voidaan havaita:** \\\n",
    "ajankäytön (Moving Time) suhteen suorituksista enemmistö on ollut n. 2500 sekunnin mittaisia \\\n",
    "matkan pituuden (Distance) suhteen suorituksista enemmistö on ollut n. 24 km mittaisia \\\n",
    "keskinopeuden (Average Speed) suhteen suorituksista enemmistö on ollut n. 27 km/h \\\n",
    "keskimääräisen tehon (Average Watts) suhteen suorituksista enemmistö on ollut n. 300 w \n"
   ]
  },
  {
   "cell_type": "markdown",
   "id": "54578a43",
   "metadata": {},
   "source": [
    "#### Kilometrien summa eri vuosina"
   ]
  },
  {
   "cell_type": "code",
   "execution_count": 64,
   "id": "e1e5ebcf",
   "metadata": {},
   "outputs": [
    {
     "data": {
      "text/html": [
       "<div>\n",
       "<style scoped>\n",
       "    .dataframe tbody tr th:only-of-type {\n",
       "        vertical-align: middle;\n",
       "    }\n",
       "\n",
       "    .dataframe tbody tr th {\n",
       "        vertical-align: top;\n",
       "    }\n",
       "\n",
       "    .dataframe thead th {\n",
       "        text-align: right;\n",
       "    }\n",
       "</style>\n",
       "<table border=\"1\" class=\"dataframe\">\n",
       "  <thead>\n",
       "    <tr style=\"text-align: right;\">\n",
       "      <th></th>\n",
       "      <th>Year</th>\n",
       "      <th>Distance</th>\n",
       "    </tr>\n",
       "  </thead>\n",
       "  <tbody>\n",
       "    <tr>\n",
       "      <th>0</th>\n",
       "      <td>2012</td>\n",
       "      <td>8585.14</td>\n",
       "    </tr>\n",
       "    <tr>\n",
       "      <th>1</th>\n",
       "      <td>2013</td>\n",
       "      <td>8622.17</td>\n",
       "    </tr>\n",
       "    <tr>\n",
       "      <th>2</th>\n",
       "      <td>2014</td>\n",
       "      <td>7755.46</td>\n",
       "    </tr>\n",
       "    <tr>\n",
       "      <th>3</th>\n",
       "      <td>2015</td>\n",
       "      <td>6538.73</td>\n",
       "    </tr>\n",
       "    <tr>\n",
       "      <th>4</th>\n",
       "      <td>2016</td>\n",
       "      <td>5127.68</td>\n",
       "    </tr>\n",
       "    <tr>\n",
       "      <th>5</th>\n",
       "      <td>2017</td>\n",
       "      <td>4652.30</td>\n",
       "    </tr>\n",
       "    <tr>\n",
       "      <th>6</th>\n",
       "      <td>2018</td>\n",
       "      <td>4822.22</td>\n",
       "    </tr>\n",
       "    <tr>\n",
       "      <th>7</th>\n",
       "      <td>2019</td>\n",
       "      <td>2700.23</td>\n",
       "    </tr>\n",
       "    <tr>\n",
       "      <th>8</th>\n",
       "      <td>2020</td>\n",
       "      <td>3948.74</td>\n",
       "    </tr>\n",
       "    <tr>\n",
       "      <th>9</th>\n",
       "      <td>2021</td>\n",
       "      <td>3327.84</td>\n",
       "    </tr>\n",
       "    <tr>\n",
       "      <th>10</th>\n",
       "      <td>2022</td>\n",
       "      <td>3400.50</td>\n",
       "    </tr>\n",
       "  </tbody>\n",
       "</table>\n",
       "</div>"
      ],
      "text/plain": [
       "    Year  Distance\n",
       "0   2012   8585.14\n",
       "1   2013   8622.17\n",
       "2   2014   7755.46\n",
       "3   2015   6538.73\n",
       "4   2016   5127.68\n",
       "5   2017   4652.30\n",
       "6   2018   4822.22\n",
       "7   2019   2700.23\n",
       "8   2020   3948.74\n",
       "9   2021   3327.84\n",
       "10  2022   3400.50"
      ]
     },
     "metadata": {},
     "output_type": "display_data"
    },
    {
     "data": {
      "image/png": "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\n",
      "text/plain": [
       "<Figure size 1224x432 with 1 Axes>"
      ]
     },
     "metadata": {},
     "output_type": "display_data"
    },
    {
     "data": {
      "image/png": "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\n",
      "text/plain": [
       "<Figure size 1224x432 with 1 Axes>"
      ]
     },
     "metadata": {},
     "output_type": "display_data"
    }
   ],
   "source": [
    "years=df2['Year'].unique()\n",
    "\n",
    "distance=[]\n",
    "for year in years:    \n",
    "    x=df2.loc[df2['Year']==year]    \n",
    "    distance.append(x['Distance'].sum())\n",
    "    \n",
    "distance=np.array(distance)\n",
    "\n",
    "data={'Year':years,'Distance':distance}\n",
    "\n",
    "data = pd.DataFrame(data)\n",
    "display(data)\n",
    "\n",
    "plt.figure()\n",
    "sns.set_style('dark')\n",
    "sns.barplot(x='Year', y='Distance', data=data, hue='Year', ci=None,palette = 'rocket',dodge=False)\n",
    "plt.gcf().set_size_inches(17, 6)\n",
    "\n",
    "plt.figure()\n",
    "data = pd.DataFrame(distance,years)\n",
    "sns.lineplot(data=data, palette=\"tab10\", linewidth=2.5,legend=None)\n",
    "plt.gcf().set_size_inches(17, 6)"
   ]
  },
  {
   "cell_type": "markdown",
   "id": "3bfad7d0",
   "metadata": {},
   "source": [
    "Voidaan havaita, että kilometrimäärät ovat laskutendissä, maksimi savutettiin vuonna 2013 ja minimi vuonna 2019."
   ]
  },
  {
   "cell_type": "markdown",
   "id": "7209deb1",
   "metadata": {},
   "source": [
    "#### Kilometrien summa eri kuukausina"
   ]
  },
  {
   "cell_type": "code",
   "execution_count": 84,
   "id": "36ca3475",
   "metadata": {
    "scrolled": false
   },
   "outputs": [
    {
     "data": {
      "text/html": [
       "<div>\n",
       "<style scoped>\n",
       "    .dataframe tbody tr th:only-of-type {\n",
       "        vertical-align: middle;\n",
       "    }\n",
       "\n",
       "    .dataframe tbody tr th {\n",
       "        vertical-align: top;\n",
       "    }\n",
       "\n",
       "    .dataframe thead th {\n",
       "        text-align: right;\n",
       "    }\n",
       "</style>\n",
       "<table border=\"1\" class=\"dataframe\">\n",
       "  <thead>\n",
       "    <tr style=\"text-align: right;\">\n",
       "      <th></th>\n",
       "      <th>Month</th>\n",
       "      <th>Distance</th>\n",
       "    </tr>\n",
       "  </thead>\n",
       "  <tbody>\n",
       "    <tr>\n",
       "      <th>0</th>\n",
       "      <td>January</td>\n",
       "      <td>3220.90</td>\n",
       "    </tr>\n",
       "    <tr>\n",
       "      <th>1</th>\n",
       "      <td>February</td>\n",
       "      <td>3288.37</td>\n",
       "    </tr>\n",
       "    <tr>\n",
       "      <th>2</th>\n",
       "      <td>March</td>\n",
       "      <td>4403.02</td>\n",
       "    </tr>\n",
       "    <tr>\n",
       "      <th>3</th>\n",
       "      <td>April</td>\n",
       "      <td>4102.59</td>\n",
       "    </tr>\n",
       "    <tr>\n",
       "      <th>4</th>\n",
       "      <td>May</td>\n",
       "      <td>5098.04</td>\n",
       "    </tr>\n",
       "    <tr>\n",
       "      <th>5</th>\n",
       "      <td>June</td>\n",
       "      <td>5956.85</td>\n",
       "    </tr>\n",
       "    <tr>\n",
       "      <th>6</th>\n",
       "      <td>July</td>\n",
       "      <td>5389.80</td>\n",
       "    </tr>\n",
       "    <tr>\n",
       "      <th>7</th>\n",
       "      <td>August</td>\n",
       "      <td>5715.92</td>\n",
       "    </tr>\n",
       "    <tr>\n",
       "      <th>8</th>\n",
       "      <td>September</td>\n",
       "      <td>4663.90</td>\n",
       "    </tr>\n",
       "    <tr>\n",
       "      <th>9</th>\n",
       "      <td>October</td>\n",
       "      <td>7558.64</td>\n",
       "    </tr>\n",
       "    <tr>\n",
       "      <th>10</th>\n",
       "      <td>November</td>\n",
       "      <td>6565.66</td>\n",
       "    </tr>\n",
       "    <tr>\n",
       "      <th>11</th>\n",
       "      <td>December</td>\n",
       "      <td>3517.32</td>\n",
       "    </tr>\n",
       "  </tbody>\n",
       "</table>\n",
       "</div>"
      ],
      "text/plain": [
       "        Month  Distance\n",
       "0     January   3220.90\n",
       "1    February   3288.37\n",
       "2       March   4403.02\n",
       "3       April   4102.59\n",
       "4         May   5098.04\n",
       "5        June   5956.85\n",
       "6        July   5389.80\n",
       "7      August   5715.92\n",
       "8   September   4663.90\n",
       "9     October   7558.64\n",
       "10   November   6565.66\n",
       "11   December   3517.32"
      ]
     },
     "metadata": {},
     "output_type": "display_data"
    },
    {
     "data": {
      "image/png": "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\n",
      "text/plain": [
       "<Figure size 1224x432 with 1 Axes>"
      ]
     },
     "metadata": {},
     "output_type": "display_data"
    }
   ],
   "source": [
    "months=df2['Month'].unique()\n",
    "months=np.sort(months)\n",
    "\n",
    "monthNames = ['January', 'February', 'March', 'April', 'May', 'June', 'July','August', 'September', 'October'\n",
    "              , 'November', 'December']\n",
    "\n",
    "distance=[]\n",
    "mNx=[]\n",
    "for month in months:\n",
    "    x=df2.loc[df2['Month']==month]    \n",
    "    distance.append(x['Distance'].sum())    \n",
    "    mNx.append(monthNames[month-1])\n",
    "    \n",
    "distance=np.array(distance)\n",
    "data={'Month':mNx,'Distance':distance}\n",
    "data = pd.DataFrame(data)\n",
    "display(data)\n",
    "\n",
    "plt.figure()\n",
    "sns.barplot(data=data,x='Month', y='Distance', ci=None, color='steelblue',dodge=False)\n",
    "plt.gcf().set_size_inches(17, 6)\n"
   ]
  },
  {
   "cell_type": "markdown",
   "id": "f5dfc4c9",
   "metadata": {},
   "source": [
    "Voidaan nähdä, että lokakuussa on tullut eniten kilometrejä mittariin. \\\n",
    "Tämän selittää pyöräily Malagassa 2012-2015."
   ]
  },
  {
   "cell_type": "markdown",
   "id": "c50f3ebd",
   "metadata": {},
   "source": [
    "#### Kilometrien summa eri viikonpäivinä"
   ]
  },
  {
   "cell_type": "code",
   "execution_count": 66,
   "id": "cb94e0fb",
   "metadata": {
    "scrolled": false
   },
   "outputs": [
    {
     "data": {
      "text/html": [
       "<div>\n",
       "<style scoped>\n",
       "    .dataframe tbody tr th:only-of-type {\n",
       "        vertical-align: middle;\n",
       "    }\n",
       "\n",
       "    .dataframe tbody tr th {\n",
       "        vertical-align: top;\n",
       "    }\n",
       "\n",
       "    .dataframe thead th {\n",
       "        text-align: right;\n",
       "    }\n",
       "</style>\n",
       "<table border=\"1\" class=\"dataframe\">\n",
       "  <thead>\n",
       "    <tr style=\"text-align: right;\">\n",
       "      <th></th>\n",
       "      <th>Day</th>\n",
       "      <th>Distance</th>\n",
       "    </tr>\n",
       "  </thead>\n",
       "  <tbody>\n",
       "    <tr>\n",
       "      <th>0</th>\n",
       "      <td>Monday</td>\n",
       "      <td>6927.58</td>\n",
       "    </tr>\n",
       "    <tr>\n",
       "      <th>1</th>\n",
       "      <td>Tuesday</td>\n",
       "      <td>8262.56</td>\n",
       "    </tr>\n",
       "    <tr>\n",
       "      <th>2</th>\n",
       "      <td>Wednesday</td>\n",
       "      <td>8773.86</td>\n",
       "    </tr>\n",
       "    <tr>\n",
       "      <th>3</th>\n",
       "      <td>Thursday</td>\n",
       "      <td>8440.00</td>\n",
       "    </tr>\n",
       "    <tr>\n",
       "      <th>4</th>\n",
       "      <td>Friday</td>\n",
       "      <td>9130.97</td>\n",
       "    </tr>\n",
       "    <tr>\n",
       "      <th>5</th>\n",
       "      <td>Saturday</td>\n",
       "      <td>9736.52</td>\n",
       "    </tr>\n",
       "    <tr>\n",
       "      <th>6</th>\n",
       "      <td>Sunday</td>\n",
       "      <td>8209.52</td>\n",
       "    </tr>\n",
       "  </tbody>\n",
       "</table>\n",
       "</div>"
      ],
      "text/plain": [
       "         Day  Distance\n",
       "0     Monday   6927.58\n",
       "1    Tuesday   8262.56\n",
       "2  Wednesday   8773.86\n",
       "3   Thursday   8440.00\n",
       "4     Friday   9130.97\n",
       "5   Saturday   9736.52\n",
       "6     Sunday   8209.52"
      ]
     },
     "metadata": {},
     "output_type": "display_data"
    },
    {
     "name": "stdout",
     "output_type": "stream",
     "text": [
      "Max\n",
      "        Day  Distance\n",
      "5  Saturday   9736.52\n"
     ]
    },
    {
     "data": {
      "image/png": "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\n",
      "text/plain": [
       "<Figure size 1224x432 with 1 Axes>"
      ]
     },
     "metadata": {},
     "output_type": "display_data"
    }
   ],
   "source": [
    "\n",
    "dayNames = [\"Monday\", \"Tuesday\", \"Wednesday\", \"Thursday\", \"Friday\", \"Saturday\",\"Sunday\"]\n",
    "dows=df2['Dayofweek'].unique()\n",
    "dows=np.sort(dows)\n",
    "\n",
    "distance=[]\n",
    "dowNames=[]\n",
    "for day in dows:    \n",
    "    x=df2.loc[df2['Dayofweek']==day]    \n",
    "    distance.append(x['Distance'].sum())\n",
    "    dowNames.append(dayNames[day])\n",
    "distance=np.array(distance)\n",
    "\n",
    "data={'Day':dowNames,'Distance':distance}\n",
    "\n",
    "data = pd.DataFrame(data) #,columns=['Day','Distance'])\n",
    "\n",
    "display(data)\n",
    "\n",
    "plt.figure()\n",
    "sns.barplot(data=data, x='Day', y='Distance', ci=None, color = 'steelblue',dodge=False)\n",
    "plt.gcf().set_size_inches(17, 6)\n",
    "\n",
    "# miten saadaan maksimi viikonpäivän summa selville ja mikä ko. viikonpäivä on???\n",
    "print(\"Max\")\n",
    "print(data.loc[data['Distance']==data['Distance'].max()])"
   ]
  },
  {
   "cell_type": "markdown",
   "id": "96ab8eee",
   "metadata": {},
   "source": [
    "Launtaisin on tullut eniten pyöräiltyä."
   ]
  },
  {
   "cell_type": "markdown",
   "id": "ed783995",
   "metadata": {},
   "source": [
    "#### TIetyn vuoden kuukausikohtaiset kilometrien summat\n",
    "Tässä esitetään vuoden (jonka aikana tuli eniten pyöräiltyä) kuukausikohtaiset summat"
   ]
  },
  {
   "cell_type": "code",
   "execution_count": 67,
   "id": "982db14a",
   "metadata": {},
   "outputs": [
    {
     "data": {
      "text/html": [
       "<div>\n",
       "<style scoped>\n",
       "    .dataframe tbody tr th:only-of-type {\n",
       "        vertical-align: middle;\n",
       "    }\n",
       "\n",
       "    .dataframe tbody tr th {\n",
       "        vertical-align: top;\n",
       "    }\n",
       "\n",
       "    .dataframe thead th {\n",
       "        text-align: right;\n",
       "    }\n",
       "</style>\n",
       "<table border=\"1\" class=\"dataframe\">\n",
       "  <thead>\n",
       "    <tr style=\"text-align: right;\">\n",
       "      <th></th>\n",
       "      <th>Month</th>\n",
       "      <th>Distance</th>\n",
       "    </tr>\n",
       "  </thead>\n",
       "  <tbody>\n",
       "    <tr>\n",
       "      <th>0</th>\n",
       "      <td>January</td>\n",
       "      <td>337.58</td>\n",
       "    </tr>\n",
       "    <tr>\n",
       "      <th>1</th>\n",
       "      <td>February</td>\n",
       "      <td>315.38</td>\n",
       "    </tr>\n",
       "    <tr>\n",
       "      <th>2</th>\n",
       "      <td>March</td>\n",
       "      <td>352.74</td>\n",
       "    </tr>\n",
       "    <tr>\n",
       "      <th>3</th>\n",
       "      <td>April</td>\n",
       "      <td>175.27</td>\n",
       "    </tr>\n",
       "    <tr>\n",
       "      <th>4</th>\n",
       "      <td>May</td>\n",
       "      <td>517.64</td>\n",
       "    </tr>\n",
       "    <tr>\n",
       "      <th>5</th>\n",
       "      <td>June</td>\n",
       "      <td>917.85</td>\n",
       "    </tr>\n",
       "    <tr>\n",
       "      <th>6</th>\n",
       "      <td>July</td>\n",
       "      <td>582.92</td>\n",
       "    </tr>\n",
       "    <tr>\n",
       "      <th>7</th>\n",
       "      <td>August</td>\n",
       "      <td>818.78</td>\n",
       "    </tr>\n",
       "    <tr>\n",
       "      <th>8</th>\n",
       "      <td>September</td>\n",
       "      <td>663.74</td>\n",
       "    </tr>\n",
       "    <tr>\n",
       "      <th>9</th>\n",
       "      <td>October</td>\n",
       "      <td>1522.25</td>\n",
       "    </tr>\n",
       "    <tr>\n",
       "      <th>10</th>\n",
       "      <td>November</td>\n",
       "      <td>1673.75</td>\n",
       "    </tr>\n",
       "    <tr>\n",
       "      <th>11</th>\n",
       "      <td>December</td>\n",
       "      <td>744.27</td>\n",
       "    </tr>\n",
       "  </tbody>\n",
       "</table>\n",
       "</div>"
      ],
      "text/plain": [
       "        Month  Distance\n",
       "0     January    337.58\n",
       "1    February    315.38\n",
       "2       March    352.74\n",
       "3       April    175.27\n",
       "4         May    517.64\n",
       "5        June    917.85\n",
       "6        July    582.92\n",
       "7      August    818.78\n",
       "8   September    663.74\n",
       "9     October   1522.25\n",
       "10   November   1673.75\n",
       "11   December    744.27"
      ]
     },
     "metadata": {},
     "output_type": "display_data"
    },
    {
     "data": {
      "image/png": "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\n",
      "text/plain": [
       "<Figure size 1224x432 with 1 Axes>"
      ]
     },
     "metadata": {},
     "output_type": "display_data"
    }
   ],
   "source": [
    "years=df2['Year'].unique()\n",
    "\n",
    "distance=[]\n",
    "for year in years:    \n",
    "    x=df2.loc[df2['Year']==year]    \n",
    "    distance.append(x['Distance'].sum())\n",
    "    \n",
    "distance=np.array(distance)\n",
    "sortedindex = np.argsort(distance, axis=0)\n",
    "maxind=sortedindex[::-1][0]\n",
    "\n",
    "maxYear=years[maxind]\n",
    "\n",
    "### maksimivuoden tiedot\n",
    "data=df2.loc[df2['Year']==maxYear]    \n",
    "\n",
    "distance=[]\n",
    "mN=[]\n",
    "for month in months:\n",
    "    x=data.loc[data['Month']==month]    \n",
    "    distance.append(x['Distance'].sum())    \n",
    "    mN.append(monthNames[month-1])\n",
    "    \n",
    "distance=np.array(distance)\n",
    "\n",
    "data={'Month':mN,'Distance':distance}\n",
    "data = pd.DataFrame(data)\n",
    "display(data)\n",
    "\n",
    "plt.figure()\n",
    "sns.set_style('dark')\n",
    "sns.barplot(data=data,x='Month', y='Distance', ci=None, color='steelblue',dodge=False).set(title=f'{maxYear}')\n",
    "plt.gcf().set_size_inches(17, 6)"
   ]
  },
  {
   "cell_type": "markdown",
   "id": "2182d5c9",
   "metadata": {},
   "source": [
    "Voidaan nähdä, että marraskuussa on tullut eniten kilometrejä mittariin. \\\n",
    "Tämän selittää pyöräily Malagassa 2013 ko. ajankohtana."
   ]
  },
  {
   "cell_type": "markdown",
   "id": "cbaf264f",
   "metadata": {},
   "source": [
    "#### Kilometrien summa eri vuosien eri kuukausina"
   ]
  },
  {
   "cell_type": "code",
   "execution_count": 85,
   "id": "87d5f59c",
   "metadata": {},
   "outputs": [
    {
     "data": {
      "image/png": "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\n",
      "text/plain": [
       "<Figure size 1224x432 with 1 Axes>"
      ]
     },
     "metadata": {},
     "output_type": "display_data"
    }
   ],
   "source": [
    "df2['monthName'] = df2['Activity DateTime'].dt.month_name()\n",
    "\n",
    "plt.figure()\n",
    "sns.set_style('dark')\n",
    "sns.barplot(x='monthName', y='Distance', data=df2, hue='Year', ci=None, estimator=np.sum, palette = 'icefire_r',\n",
    "            dodge=True,order =[\"January\", \"February\", \"March\", \"April\", \"May\", \"June\", \"July\", \"August\", \"September\", \n",
    "            \"October\", \"November\", \"December\"])\n",
    "plt.legend(loc='upper center')\n",
    "plt.gcf().set_size_inches(17, 6)"
   ]
  },
  {
   "cell_type": "markdown",
   "id": "52b0fa8a",
   "metadata": {},
   "source": [
    "On nähtävissä, että marraskuussa vuosina 2012-2013 on eniten kilometrejä kertynyt mittariin,\\\n",
    "em. vuosina myös lokakuu on myös ollut hyvä kuukausi. \\\n",
    "Tämä selkeä ero muihin kuukausiin selittyy sillä, että olen käynyt Malagassa pyöräilemässä ko. ajanjaksoina. "
   ]
  },
  {
   "cell_type": "markdown",
   "id": "c5d00919",
   "metadata": {},
   "source": [
    "#### Kilometrien summa eri vuodenaikoina"
   ]
  },
  {
   "cell_type": "code",
   "execution_count": 121,
   "id": "25318f8f",
   "metadata": {},
   "outputs": [],
   "source": [
    "# lisätään dataframeen season-sarake, joka täytetään ko. datalla\n",
    "# kevät kuukaudet 3-5, kesä 6-8, syksy 9-11, talvi 12,1,2\n",
    "\n",
    "seasons=['Spring','Summer','Autumn','Winter']\n",
    "\n",
    "df2.loc[(df2[\"Month\"]>=3) & (df2[\"Month\"]<=5), 'Season'] = seasons[0]\n",
    "df2.loc[(df2[\"Month\"]>=6) & (df2[\"Month\"]<=8), 'Season'] = seasons[1]\n",
    "df2.loc[(df2[\"Month\"]>=9) & (df2[\"Month\"]<=11), 'Season'] = seasons[2]\n",
    "df2.loc[(df2[\"Month\"]==1) | (df2[\"Month\"]==2) | (df2[\"Month\"]==12), 'Season'] = seasons[3]\n"
   ]
  },
  {
   "cell_type": "code",
   "execution_count": 70,
   "id": "53edb545",
   "metadata": {},
   "outputs": [
    {
     "data": {
      "text/html": [
       "<div>\n",
       "<style scoped>\n",
       "    .dataframe tbody tr th:only-of-type {\n",
       "        vertical-align: middle;\n",
       "    }\n",
       "\n",
       "    .dataframe tbody tr th {\n",
       "        vertical-align: top;\n",
       "    }\n",
       "\n",
       "    .dataframe thead th {\n",
       "        text-align: right;\n",
       "    }\n",
       "</style>\n",
       "<table border=\"1\" class=\"dataframe\">\n",
       "  <thead>\n",
       "    <tr style=\"text-align: right;\">\n",
       "      <th></th>\n",
       "      <th>Season</th>\n",
       "      <th>Distance</th>\n",
       "    </tr>\n",
       "  </thead>\n",
       "  <tbody>\n",
       "    <tr>\n",
       "      <th>0</th>\n",
       "      <td>Spring</td>\n",
       "      <td>13603.65</td>\n",
       "    </tr>\n",
       "    <tr>\n",
       "      <th>1</th>\n",
       "      <td>Summer</td>\n",
       "      <td>17062.57</td>\n",
       "    </tr>\n",
       "    <tr>\n",
       "      <th>2</th>\n",
       "      <td>Autumn</td>\n",
       "      <td>18788.20</td>\n",
       "    </tr>\n",
       "    <tr>\n",
       "      <th>3</th>\n",
       "      <td>Winter</td>\n",
       "      <td>10026.59</td>\n",
       "    </tr>\n",
       "  </tbody>\n",
       "</table>\n",
       "</div>"
      ],
      "text/plain": [
       "   Season  Distance\n",
       "0  Spring  13603.65\n",
       "1  Summer  17062.57\n",
       "2  Autumn  18788.20\n",
       "3  Winter  10026.59"
      ]
     },
     "metadata": {},
     "output_type": "display_data"
    },
    {
     "name": "stdout",
     "output_type": "stream",
     "text": [
      "Max\n",
      "   Season  Distance\n",
      "2  Autumn   18788.2\n"
     ]
    },
    {
     "data": {
      "image/png": "iVBORw0KGgoAAAANSUhEUgAAAfwAAAEECAYAAADNk4ZnAAAAOXRFWHRTb2Z0d2FyZQBNYXRwbG90bGliIHZlcnNpb24zLjQuMywgaHR0cHM6Ly9tYXRwbG90bGliLm9yZy/MnkTPAAAACXBIWXMAAAsTAAALEwEAmpwYAAAiSklEQVR4nO3df1zUdYLH8dcIM4IzQy7nz13B1GJTPFRgzRLJutTO8pFZsM4k7Krp5RatlIqxJP5INzvNO8lxlbTbUFHU2vWO7sfappw117b4UAsjNzTJMiNNnZliIJj7o3MuVnOpdQbh+34+Hj0ezocPw3v4Gm8/3/ny+ZoCgUAAERER6dA6tXUAERERCT0VvoiIiAGo8EVERAxAhS8iImIAKnwREREDiGzrAKHU3NxMU5N+CUFERIzDbI645HiHLvympgBnz37e1jFERETCpnt3+yXHdUpfRETEAFT4IiIiBqDCFxERMQAVvoiIiAGo8EVERAxAhS8iImIAKnwREREDUOGLiIgYgApfRETEADr0Tnsi0j7Yr4kiymJu6xgdWn1DI55z9W0dQ9qQCl9E2lyUxUzG4tK2jtGhbV/gwIMK38h0Sl9ERMQAVPgiIiIGoMIXERExABW+iIiIAajwRUREDECFLyIiYgAqfBEREQNQ4YuIiBiACl9ERMQAQrbT3sGDB1mxYgUlJSXk5uby6aefAvDhhx8yZMgQVq1axZNPPsn+/fuxWq0AuFwuzGYzc+fO5fTp01itVpYvX05sbCwHDhxg6dKlREREkJaWxsMPPxyq6CIiIh1OSAq/uLiYXbt2ER0dDcCqVasAOHfuHNnZ2Tz++OMAVFVV8dxzzxEbGxv83Oeff56EhARycnIoLy/H5XJRUFBAYWEhRUVFxMXFMXPmTKqqqkhMTAxFfBERkQ4nJKf04+PjKSoqumi8qKiIKVOm0KNHD5qbmzl+/DgLFixg8uTJ7NixA4DKykpGjRoFQHp6Om63G6/XS0NDA/Hx8ZhMJtLS0nC73aGILiIi0iGFZIU/btw4Tpw40WLs9OnTuN3u4Or+888/Z8qUKUydOpWmpiays7MZPHgwXq8Xu90OgNVqxePx4PV6sdlsweeyWq188MEHoYguIiLSIYXtbnn/8R//wV133UVERAQA0dHRZGdnB0/7jxgxgurqamw2Gz6fDwCfz0dMTEyLsa+Pi4iISOuE7Sp9t9tNenp68PH777+P0+mkqamJxsZG9u/fT2JiIsnJyezduxeAiooKUlJSsNlsmM1mamtrCQQC7Nu3j9TU1HBFFxERaffCtsI/duwYcXFxwccDBgxgwoQJZGZmYjabufvuu7n++uvp06cPeXl5OBwOzGYzK1euBGDRokXMmTOHpqYm0tLSGDJkSLiii4iItHumQCAQaOsQodLY2MTZs5+3dQwR+Qu6d7eTsbi0rWN0aNsXOKir87R1DAmD7t3tlxwP2wpfJJTs10QRZTG3dYwOrb6hEc+5+raOISLfkQpfOoQoi1krxBDbvsCBBxW+SHulrXVFREQMQIUvIiJiACp8ERERA1Dhi4iIGIAKX0RExABU+CIiIgagwhcRETEAFb6IiIgBqPBFREQMQIUvIiJiACp8ERERA1Dhi4iIGIAKX0RExABU+CIiIgagwhcRETEAFb6IiIgBqPBFREQMQIUvIiJiACEr/IMHD5KVlQVAVVUVo0aNIisri6ysLF5++WUAysrKmDRpEpmZmbz66qsA1NfXk5OTg9PpZMaMGZw5cwaAAwcOkJGRweTJk3n22WdDFVtERKRDigzFkxYXF7Nr1y6io6MBOHz4MFOnTmXatGnBOXV1dZSUlLBz5078fj9Op5ORI0dSWlpKQkICOTk5lJeX43K5KCgooLCwkKKiIuLi4pg5cyZVVVUkJiaGIr6IiEiHE5IVfnx8PEVFRcHHb7/9Nnv27OH+++8nPz8fr9fLoUOHGDZsGBaLBbvdTnx8PNXV1VRWVjJq1CgA0tPTcbvdeL1eGhoaiI+Px2QykZaWhtvtDkV0ERGRDikkhT9u3DgiI///5EFSUhLz5s1j8+bNxMXFsWbNGrxeL3a7PTjHarXi9XpbjFutVjweD16vF5vN1mKux+MJRXQREZEOKSwX7Y0ZM4bBgwcH/3z48GFsNhs+ny84x+fzYbfbW4z7fD5iYmIuOTcmJiYc0UVERDqEsBT+9OnTOXToEABut5vExESSkpKorKzE7/fj8XioqakhISGB5ORk9u7dC0BFRQUpKSnYbDbMZjO1tbUEAgH27dtHampqOKKLiIh0CCG5aO/PLVy4kCVLlmA2m+nWrRtLlizBZrORlZWF0+kkEAiQm5tL586dcTgc5OXl4XA4MJvNrFy5EoBFixYxZ84cmpqaSEtLY8iQIeGILiIi0iGYAoFAoK1DhEpjYxNnz37e1jEkDLp3t5OxuLStY3Ro2xc4qKsLzbUzOn6hF8rjJ1eX7t3tlxzXxjsiIiIGoMIXERExABW+iIiIAajwRUREDECFLyIiYgAqfBEREQNQ4YuIiBiACl9ERMQAVPgiIiIGoMIXERExgLDspd8e2K+JIspibusYHV59QyOec/VtHUNExHBU+P8nymLWXt5hsH2BAw8qfBGRcNMpfREREQNQ4YuIiBiACl9ERMQAVPgiIiIGoMIXERExABW+iIiIAajwRUREDCBkv4d/8OBBVqxYQUlJCe+88w5LliwhIiICi8XC8uXL6datG08++ST79+/HarUC4HK5MJvNzJ07l9OnT2O1Wlm+fDmxsbEcOHCApUuXEhERQVpaGg8//HCooouIiHQ4IVnhFxcXU1BQgN/vB2Dp0qU88cQTlJSUMGbMGIqLiwGoqqriueeeo6SkhJKSEux2O6WlpSQkJLBlyxYmTpyIy+UCoLCwkJUrV1JaWsrBgwepqqoKRXQREZEOKSSFHx8fT1FRUfDxM888w8CBAwFoamqic+fONDc3c/z4cRYsWMDkyZPZsWMHAJWVlYwaNQqA9PR03G43Xq+XhoYG4uPjMZlMpKWl4Xa7QxFdRESkQwrJKf1x48Zx4sSJ4OMePXoAsH//fjZt2sTmzZv5/PPPmTJlClOnTqWpqYns7GwGDx6M1+vFbrcDYLVa8Xg8eL1ebDZb8PmsVisffPBBKKKLiIh0SGHbS//ll19m7dq1rF+/ntjY2GDJR0dHAzBixAiqq6ux2Wz4fD4AfD4fMTExLca+Pi4iIiKtE5ar9H/729+yadMmSkpKiIuLA+D999/H6XTS1NREY2Mj+/fvJzExkeTkZPbu3QtARUUFKSkp2Gw2zGYztbW1BAIB9u3bR2pqajiii4iIdAghX+E3NTWxdOlSevfuTU5ODgA/+tGPeOSRR5gwYQKZmZmYzWbuvvturr/+evr06UNeXh4OhwOz2czKlSsBWLRoEXPmzKGpqYm0tDSGDBkS6ugiIiIdRsgKv0+fPpSVlQHwhz/84ZJzZsyYwYwZM1qMRUdHs3r16ovmDh06NPh8IiIi8u1o4x0REREDUOGLiIgYgApfRETEAFT4IiIiBqDCFxERMQAVvoiIiAGo8EVERAygVb+H7/V6KS4upq6ujtGjR/PDH/6Qvn37hjqbiIiIXCGtWuHn5+cTFxfH+++/T7du3fjFL34R6lwiIiJyBbWq8M+ePct9991HZGQkycnJBAKBUOcSERGRK6jV7+HX1NQA8PHHH9Opk976FxERaU9a1dwFBQXk5+dz+PBhHnnkEebPnx/qXCIiInIFteqivWuvvZbCwkIGDRrE7t27SUhICHUuERERuYJatcKfM2cOBw8eBODYsWNa4YuIiLQzrSr8U6dO4XA4gK9uafvJJ5+ENJSIiIhcWa2++u7YsWMA1NbW0tzcHLJAIiIicuW16j38/Px8Zs+ezenTp+nRoweLFi0KdS4RERG5glpV+EOGDOG3v/1tqLOIiIhIiLSq8H/zm9+wfv16/H5/cOyVV14JWSgRERG5slpV+MXFxaxdu5bevXuHOo+IiIiEQKsu2ouLi6Nv375YLJbgf3/JwYMHycrKAuD48eM4HA6cTieFhYXBi/7KysqYNGkSmZmZvPrqqwDU19eTk5OD0+lkxowZnDlzBoADBw6QkZHB5MmTefbZZ7/TixURETGqVq3wo6KieOCBBxg4cCAmkwmARx999BvnFxcXs2vXLqKjowH45S9/yezZs7nxxhtZsGABr7zyCkOHDqWkpISdO3fi9/txOp2MHDmS0tJSEhISyMnJoby8HJfLRUFBAYWFhRQVFREXF8fMmTOpqqoiMTHxCnwLREREOr5WFf4tt9zyrZ40Pj6eoqIi5s2bB0BVVRXDhw8HID09nddee41OnToxbNiw4BmD+Ph4qqurqays5IEHHgjOdblceL1eGhoaiI+PByAtLQ23263CFxFpY/ZrooiymNs6RodX39CI51z9X/UcrSr8CRMm8NZbb/Hll18SCAT+4sY748aN48SJE8HHgUAgeGbAarXi8Xjwer3Y7fbgHKvVitfrbTH+9bk2m63F3A8++KD1r1JEREIiymImY3FpW8fo8LYvcOAhDIX/8MMP09jYyCeffEJTUxM9evTgrrvuavUX+frd9Xw+HzExMdhsNnw+X4txu93eYvxyc2NiYlr99UVERIyuVRfteb1eNmzYQFJSEi+++GKLX89rjUGDBvHGG28AUFFRQWpqKklJSVRWVuL3+/F4PNTU1JCQkEBycjJ79+4Nzk1JScFms2E2m6mtrSUQCLBv3z5SU1O/5UsVERExrlat8CMiIgD44osviIqKorGx8Vt9kby8PJ544gmeeeYZ+vfvz7hx44iIiCArKwun00kgECA3N5fOnTvjcDjIy8vD4XBgNptZuXIlAIsWLWLOnDk0NTWRlpbGkCFDvuVLFRERMa5WFf7YsWNZs2YNN9xwA5mZmS3eT/8mffr0oaysDIB+/fqxadOmi+ZkZmaSmZnZYiw6OprVq1dfNHfo0KHB5xMREZFvp1WF/3d/93f07NkTk8nELbfcQmRkqz5NRERErhKXfQ//yJEj/Pd//zf/8A//wGuvvca+ffv4+OOPL/s7+CIiInL1uexS/fz587z88sucPn2a8vJyAEwmE06nMyzhRERE5Mq4bOGnpqaSmpraYle75ubmFr9mJyIiIle/VjV3bW0t5eXlvPTSS6SlpbFhw4ZQ5xIREZErqFWFv3HjRm6++WZ27drFnj17gje6ERERkfahVYV/4e54VqsVi8XSYtc7ERERufq1+va49957L/feey/PPvssSUlJoc4lIiIiV1CrfqH+qaeewufzYbVa+du//Vu6desW6lwiIiJyBV228F0uFz/72c947LHHLvrYhS1vRURE5Op32cK/7bbbqK6u5uTJk3z22WfcfffdxMbGcu2114YpnoiIiFwJl30P/9ixY+Tn5zNx4kTmzJmD1WqlpKSE8+fPhyufiIiIXAGXXeG/8MILbNq0iS5dugTH7rnnHmbNmsXtt98e8nAiIiJyZVx2hR8ZGdmi7AFsNlvwdrkiIiLSPly28E0m0yXHm5ubQxJGREREQuOyp/Tfe++9i67QDwQC1NTUhDSUiIiIXFmXLfx/+qd/uuT45MmTQ5FFREREQuSyhT98+PBw5RAREZEQ0n1uRUREDKBVW+teCS+++CIvvfQSAH6/n3feeYetW7fy4IMPBjfycTgcjB8/nrKyMrZu3UpkZCSzZs3i1ltvpb6+nrlz53L69GmsVivLly8nNjY2XPFFRETatbAV/qRJk5g0aRIAixYt4t577+Xw4cNMnTqVadOmBefV1dVRUlLCzp078fv9OJ1ORo4cSWlpKQkJCeTk5FBeXo7L5aKgoCBc8UVERNq1sJ/Sf+utt3jvvff48Y9/zNtvv82ePXu4//77yc/Px+v1cujQIYYNG4bFYsFutxMfH091dTWVlZWMGjUKgPT0dNxud7iji4iItFthL/x169bx0EMPAZCUlMS8efPYvHkzcXFxrFmzBq/Xi91uD863Wq14vd4W41arFY/HE+7oIiIi7VZYC//8+fMcPXqUESNGADBmzBgGDx4c/PPhw4ex2Wz4fL7g5/h8Pux2e4txn89HTExMOKOLiIi0a2Et/DfffJObb745+Hj69OkcOnQIALfbTWJiIklJSVRWVuL3+/F4PNTU1JCQkEBycjJ79+4FoKKigpSUlHBGFxERadfCdtEefHX3vT59+gQfL1y4kCVLlmA2m+nWrRtLlizBZrORlZWF0+kkEAiQm5tL586dcTgc5OXl4XA4MJvNrFy5MpzRRURE2rWwFv4DDzzQ4nFiYiJbt269aF5mZiaZmZktxqKjo1m9enVI84mIiHRU2nhHRETEAFT4IiIiBqDCFxERMQAVvoiIiAGo8EVERAxAhS8iImIAKnwREREDUOGLiIgYgApfRETEAFT4IiIiBqDCFxERMQAVvoiIiAGo8EVERAxAhS8iImIAKnwREREDUOGLiIgYgApfRETEAFT4IiIiBqDCFxERMQAVvoiIiAFEhvOLTZw4EbvdDkCfPn148MEHmT9/PiaTieuvv57CwkI6depEWVkZW7duJTIyklmzZnHrrbdSX1/P3LlzOX36NFarleXLlxMbGxvO+CIiIu1W2Arf7/cDUFJSEhx78MEHmT17NjfeeCMLFizglVdeYejQoZSUlLBz5078fj9Op5ORI0dSWlpKQkICOTk5lJeX43K5KCgoCFd8ERGRdi1sp/Srq6v54osvmDZtGtnZ2Rw4cICqqiqGDx8OQHp6Oq+//jqHDh1i2LBhWCwW7HY78fHxVFdXU1lZyahRo4Jz3W53uKKLiIi0e2Fb4UdFRTF9+nQyMjJ4//33mTFjBoFAAJPJBIDVasXj8eD1eoOn/S+Me73eFuMX5oqIiEjrhK3w+/XrR9++fTGZTPTr14+uXbtSVVUV/LjP5yMmJgabzYbP52sxbrfbW4xfmCsiIiKtE7ZT+jt27OCpp54C4NSpU3i9XkaOHMkbb7wBQEVFBampqSQlJVFZWYnf78fj8VBTU0NCQgLJycns3bs3ODclJSVc0UVERNq9sK3w77vvPh5//HEcDgcmk4lly5bxve99jyeeeIJnnnmG/v37M27cOCIiIsjKysLpdBIIBMjNzaVz5844HA7y8vJwOByYzWZWrlwZrugiIiLtXtgK32KxXLKkN23adNFYZmYmmZmZLcaio6NZvXp1yPKJiIh0ZNp4R0RExABU+CIiIgagwhcRETEAFb6IiIgBqPBFREQMQIUvIiJiACp8ERERA1Dhi4iIGIAKX0RExABU+CIiIgagwhcRETEAFb6IiIgBqPBFREQMQIUvIiJiACp8ERERA1Dhi4iIGIAKX0RExABU+CIiIgagwhcRETEAFb6IiIgBRIbrCzU2NpKfn8+HH35IQ0MDs2bNolevXjz44INce+21ADgcDsaPH09ZWRlbt24lMjKSWbNmceutt1JfX8/cuXM5ffo0VquV5cuXExsbG674IiIi7VrYCn/Xrl107dqVf/zHf+Szzz7jnnvu4aGHHmLq1KlMmzYtOK+uro6SkhJ27tyJ3+/H6XQycuRISktLSUhIICcnh/LyclwuFwUFBeGKLyIi0q6F7ZT+HXfcwc9//vPg44iICN5++2327NnD/fffT35+Pl6vl0OHDjFs2DAsFgt2u534+Hiqq6uprKxk1KhRAKSnp+N2u8MVXUREpN0L2wrfarUC4PV6eeSRR5g9ezYNDQ1kZGQwePBg1q5dy5o1a7jhhhuw2+0tPs/r9eL1eoPjVqsVj8cTrugiIiLtXlgv2jt58iTZ2dncfffdTJgwgTFjxjB48GAAxowZw+HDh7HZbPh8vuDn+Hw+7HZ7i3Gfz0dMTEw4o4uIiLRrYSv8Tz/9lGnTpjF37lzuu+8+AKZPn86hQ4cAcLvdJCYmkpSURGVlJX6/H4/HQ01NDQkJCSQnJ7N3714AKioqSElJCVd0ERGRdi9sp/R/9atfcf78eVwuFy6XC4D58+ezbNkyzGYz3bp1Y8mSJdhsNrKysnA6nQQCAXJzc+ncuTMOh4O8vDwcDgdms5mVK1eGK7qIiEi7F7bCLygouORV9Vu3br1oLDMzk8zMzBZj0dHRrF69OmT5REREOjJtvCMiImIAKnwREREDUOGLiIgYgApfRETEAFT4IiIiBqDCFxERMQAVvoiIiAGo8EVERAxAhS8iImIAKnwREREDUOGLiIgYgApfRETEAFT4IiIiBqDCFxERMQAVvoiIiAGo8EVERAxAhS8iImIAKnwREREDUOGLiIgYQGRbB/g2mpubWbhwIe+++y4Wi4Unn3ySvn37tnUsERGRq167WuHv3r2bhoYGtm3bxmOPPcZTTz3V1pFERETahXZV+JWVlYwaNQqAoUOH8vbbb7dxIhERkfbBFAgEAm0dorV+8YtfMHbsWG655RYARo8eze7du4mMbFfvTIiIiIRdu1rh22w2fD5f8HFzc7PKXkREpBXaVeEnJydTUVEBwIEDB0hISGjjRCIiIu1Duzqlf+Eq/SNHjhAIBFi2bBkDBgxo61giIiJXvXZV+CIiIvLdtKtT+iIiIvLdqPBFREQMQIUvIiJiACr8q8T69ev56U9/yrRp05g+fXqrNxXKzc2loaEhxOnk677rsZKrz/r160lLS8Pv91923rZt22hsbAxTKmmN7OxsDh06BEBDQwMpKSls2LAh+PEpU6bw0EMPXfbn4+9+9ztOnToV8qxXCxX+VeC9997j97//Pc8//zwbN25kzpw55Ofnt+pzV61ahcViCXFCueCvOVZy9fnXf/1Xxo8fT3l5+WXnrVu3jubm5jClktZIS0vjj3/8I/DVLqxpaWns2bMHAL/fz8mTJ1mzZs1lfz6+8MILeL3ecMS9KmjXmqtAbGwsH330ETt27CA9PZ2BAweyY8cOsrKy6NevH8eOHSMQCLBq1SqOHj3KihUrMJvNZGZmsnr1av793/+dwsJCLBYLH374IZ988glPPfUUiYmJbN++nc2bN3PNNddgNpsZP348kyZNauuX3G5d7lgtXLiQAQMGUFpayqeffso999xDbm4uvXv35sSJE9x555386U9/4vDhw4wePZpHH32UrKwsfvjDH/KnP/2JLl26kJqayr59+zh//jwbN26kS5cuFBYWcvz4cZqbm5k9ezY33ngjd911F9deey0Wi4Vnnnmmrb8t7dIbb7xBfHw8kydPZu7cuUyaNOmSx7FXr17U1dWRm5vLT37yE7Zu3cqqVasAGDlyJK+99hrz588nMjKSjz76iIaGBsaPH8+rr77KyZMncblcnDx5kuLiYsxmMydOnGD8+PHMmjWrjb8D7dvNN9+My+Vi2rRp7N27l4yMDFasWIHH46Gqqorhw4dz2223fePPx7q6Ot555x3y8vLYsmUL27Zt49/+7d8wmUyMHz+e7Oxs5s+fz9mzZzl79izr1q3jmmuuaeuX/VfRCv8qEBsby9q1a9m/fz8//vGPueOOO3j11VeBrzYbKikp4e///u9Zt24d8NW/Xrds2cLEiRNbPM/3v/99NmzYQFZWFtu2bePMmTM899xzlJaWsnHjRr744otwv7QO53LH6lI++OADli5dyrp16/jnf/5n5s+fz/bt29mxY0dwTlJSEr/+9a9paGggKiqK559/nuuuu44333yT7du3873vfY/NmzfjcrlYvHgxAJ9//jk/+9nPVPZ/he3bt5ORkUH//v2xWCwcPHjwkvMyMjLo3r17sOS/yQ9+8AM2btxI//79OXHiBMXFxYwdO5bf//73AHz00UcUFRWxbds2nnvuuSv+eoxm0KBBHD16lEAgwJtvvsnw4cO56aabeP311/nDH/4QvO/KBX/+83H06NEMHDiQ5cuXU1tby8svv8yWLVvYsmULu3fv5ujRowCMGDGCrVu3tvuyB63wrwrHjx/HZrPxy1/+EoC33nqLmTNn0q1bN0aMGAF8VfwXfnD069fvks8zcOBAAHr16sX+/fupra1lwIABREdHAzBs2LBQv5QO73LH6oKvb20RFxeH3W7HYrHQrVs3unbtCoDJZArOSUxMBCAmJobrrrsu+Ge/38+RI0eorKwMvlf55Zdf8tlnnwHf/PdA/rJz585RUVHBmTNnKCkpwev1smnTphZzWrNFydfnDBo0CPjq2PXv3z/45wvvISckJBAZGUlkZCRRUVFX6qUYVqdOnbjhhhuoqKige/fuWCwW0tPT2bNnD9XV1WRnZ7eY/+c/H7/uyJEjfPTRR/z0pz8Fvvr7UVtbC3Ss/8+0wr8KvPvuuyxcuDB44VC/fv2w2+1EREQELwjbv39/sAw6dbr0Yft6iQDEx8dz9OhR6uvraW5uDpaGfHffdKy6du1KXV0dAIcPHw7O//Nj8m3179+fO++8k5KSEoqLi7njjjuCK41v+nsgf9muXbu499572bhxIxs2bKCsrIzXXnuNTp06feNxbG5upnPnzsGPf/jhh5w7d67FnMv5a/8uyMVGjhzJunXrgqv5lJSU4HG78I/rCy71/TeZTAQCAfr37891113HCy+8QElJCZMmTQpu3d6RjptW+FeBsWPHUlNTQ0ZGBl26dCEQCDBv3jx+/etf89JLL/Ev//IvREdH8/TTT3PkyJFWP29sbCwzZszA6XTStWtX/H6/bjb0V/qmY2U2m1m8eDG9e/emR48eV+zrTZ48mYKCAqZMmYLX68XpdKror4Dt27fz9NNPBx9HR0czduxYevXqdcnjmJqaysyZM9m4cSN2u52MjAwGDBhAnz592iK+/J+bb76ZgoKC4LG0WCzY7fbg2Za/ZNiwYcybN4+NGzdy00034XA4aGhoICkpiZ49e4YyepvQ1rpXsa9fQPRdfPnllxQXFwcvDrr//vuZPXs2P/rRj65kTBERaQe03OvAIiMj+eKLL7jnnnswm80kJSWRmpra1rFERKQNaIUvIiJiAHozUERExABU+CIiIgagwhcRETEAXbQnIpe0fv16Xn/9dTp16oTJZCI3N5fBgwe3dSwR+Y5U+CJykQs3CSotLcVkMgX3HN+1a1dbRxOR70hX6YvIRc6cOcPEiRPJyckhPT2dnj170tDQwLFjx3jyySeBr3YyW7ZsGV26dGHBggV8/PHHfPbZZ6SnpzN79mz+67/+i+LiYiIjI/nBD37A008/jdfrZe7cuXi9Xpqamvj5z3/OTTfdxIQJExg+fDjvvvsuJpMJl8uF3W5v4++CSMeiwheRS6qqqmLTpk243W6ioqLIzc1lw4YNLFu2jOuuu47t27dz4sQJMjIycLvdZGRk4Pf7SU9P54033uCRRx5h3Lhx3HnnnfzmN7/htttuY+3atfTq1Yuf/OQnnDp1CofDwe7du7n99ttZsWIFycnJPPbYY9x2223ceeedbf0tEOlQdEpfRC7yTTcJqq+vZ9GiRQA0NjbSr18/unbtyltvvcX//M//YLPZgjeLefzxx1m3bh2lpaX079+f22+/nZqaGiZMmABAz549sdlsnDlzBvj/m8/07t07eK8CEblyVPgicpF3332X0tJSfvWrX9G5c+fgTYJ69uzJ8uXL+f73v09lZSV1dXW8+OKL2O12Fi9ezPHjxykrKyMQCLBt2zZycnL4m7/5GxYsWMDvfvc7BgwYwB//+EcGDRrEqVOnOH/+/CXvICgiV54KX0Qu8k03CerVqxd5eXk0NTUBsHTpUgYMGMCjjz5KZWUl0dHR9O3bl08++YSkpCSmTp1K165dsVqtjB49mltvvZX8/Hz+8z//k/r6ehYvXqwbOomEid7DFxERMQBtvCMiImIAKnwREREDUOGLiIgYgApfRETEAFT4IiIiBqDCFxERMQAVvoiIiAH8L8+U7+/XQdjLAAAAAElFTkSuQmCC\n",
      "text/plain": [
       "<Figure size 576x288 with 1 Axes>"
      ]
     },
     "metadata": {},
     "output_type": "display_data"
    }
   ],
   "source": [
    "distance=[]\n",
    "for i in range(len(seasons)):\n",
    "    dfx=df2.loc[df2[\"Season\"]==seasons[i]]\n",
    "    distance.append(dfx['Distance'].sum())\n",
    "\n",
    "sns.set_style('dark')\n",
    "plt.figure()\n",
    "data={'Season':seasons,'Distance':distance}\n",
    "data = pd.DataFrame(data)\n",
    "display(data)\n",
    "\n",
    "sns.barplot(x='Season', y='Distance', data=data, ci=None, color='steelblue',dodge=False)\n",
    "plt.gcf().set_size_inches(8, 4)\n",
    "\n",
    "print(\"Max\")\n",
    "print(data.loc[data['Distance']==data['Distance'].max()])"
   ]
  },
  {
   "cell_type": "markdown",
   "id": "2b325ded",
   "metadata": {},
   "source": [
    "Huomataan, että syksyisin on tullut eniten kilometrejä mittariin koko mittausaineisto huomioiden."
   ]
  },
  {
   "cell_type": "markdown",
   "id": "bc49b946",
   "metadata": {},
   "source": [
    "### Yksittäisiä tietoja\n",
    "Yksittäisiä tietoja on varsin helppo hakea Pandas dataframesta esim. seuraavasti:"
   ]
  },
  {
   "cell_type": "markdown",
   "id": "bb1d7d01",
   "metadata": {},
   "source": [
    "##### Vuosien 2012 - 2022 tilastoja"
   ]
  },
  {
   "cell_type": "code",
   "execution_count": 71,
   "id": "f2c96f03",
   "metadata": {},
   "outputs": [
    {
     "name": "stdout",
     "output_type": "stream",
     "text": [
      "\n"
     ]
    },
    {
     "data": {
      "text/html": [
       "<div>\n",
       "<style scoped>\n",
       "    .dataframe tbody tr th:only-of-type {\n",
       "        vertical-align: middle;\n",
       "    }\n",
       "\n",
       "    .dataframe tbody tr th {\n",
       "        vertical-align: top;\n",
       "    }\n",
       "\n",
       "    .dataframe thead th {\n",
       "        text-align: right;\n",
       "    }\n",
       "</style>\n",
       "<table border=\"1\" class=\"dataframe\">\n",
       "  <thead>\n",
       "    <tr style=\"text-align: right;\">\n",
       "      <th></th>\n",
       "      <th>Kysymys</th>\n",
       "      <th>Vastaus</th>\n",
       "    </tr>\n",
       "  </thead>\n",
       "  <tbody>\n",
       "    <tr>\n",
       "      <th>0</th>\n",
       "      <td>Aktiviteetteja yhteensä</td>\n",
       "      <td>2404</td>\n",
       "    </tr>\n",
       "    <tr>\n",
       "      <th>1</th>\n",
       "      <td>Aktiviteettien matkojen summa</td>\n",
       "      <td>59481.01 km</td>\n",
       "    </tr>\n",
       "    <tr>\n",
       "      <th>2</th>\n",
       "      <td>Kaikkien aktiviteettien matkojen keskiarvo</td>\n",
       "      <td>24.74 km</td>\n",
       "    </tr>\n",
       "    <tr>\n",
       "      <th>3</th>\n",
       "      <td>Pisin suoritus</td>\n",
       "      <td>111.07 km</td>\n",
       "    </tr>\n",
       "    <tr>\n",
       "      <th>4</th>\n",
       "      <td>Kaikkien aktiviteettien keskinopeus</td>\n",
       "      <td>24.87 km/h</td>\n",
       "    </tr>\n",
       "    <tr>\n",
       "      <th>5</th>\n",
       "      <td>Suurin Keskinopeus</td>\n",
       "      <td>33.8 km/h</td>\n",
       "    </tr>\n",
       "  </tbody>\n",
       "</table>\n",
       "</div>"
      ],
      "text/plain": [
       "                                       Kysymys      Vastaus\n",
       "0                      Aktiviteetteja yhteensä         2404\n",
       "1                Aktiviteettien matkojen summa  59481.01 km\n",
       "2  Kaikkien aktiviteettien matkojen keskiarvo      24.74 km\n",
       "3                               Pisin suoritus    111.07 km\n",
       "4          Kaikkien aktiviteettien keskinopeus   24.87 km/h\n",
       "5                           Suurin Keskinopeus    33.8 km/h"
      ]
     },
     "metadata": {},
     "output_type": "display_data"
    },
    {
     "name": "stdout",
     "output_type": "stream",
     "text": [
      "Pisimmän suorituksen tiedot\n"
     ]
    },
    {
     "data": {
      "text/html": [
       "<div>\n",
       "<style scoped>\n",
       "    .dataframe tbody tr th:only-of-type {\n",
       "        vertical-align: middle;\n",
       "    }\n",
       "\n",
       "    .dataframe tbody tr th {\n",
       "        vertical-align: top;\n",
       "    }\n",
       "\n",
       "    .dataframe thead th {\n",
       "        text-align: right;\n",
       "    }\n",
       "</style>\n",
       "<table border=\"1\" class=\"dataframe\">\n",
       "  <thead>\n",
       "    <tr style=\"text-align: right;\">\n",
       "      <th></th>\n",
       "      <th>Activity Name</th>\n",
       "      <th>Activity Date</th>\n",
       "      <th>Moving Time</th>\n",
       "      <th>Distance</th>\n",
       "      <th>Average Speed</th>\n",
       "      <th>Average Watts</th>\n",
       "    </tr>\n",
       "  </thead>\n",
       "  <tbody>\n",
       "    <tr>\n",
       "      <th>756</th>\n",
       "      <td>2015-11-15T14:13:11.927Z</td>\n",
       "      <td>Nov 15, 2015, 2:13:12 PM</td>\n",
       "      <td>17522.0</td>\n",
       "      <td>111.07</td>\n",
       "      <td>22.819998</td>\n",
       "      <td>262.348999</td>\n",
       "    </tr>\n",
       "  </tbody>\n",
       "</table>\n",
       "</div>"
      ],
      "text/plain": [
       "                Activity Name             Activity Date  Moving Time  \\\n",
       "756  2015-11-15T14:13:11.927Z  Nov 15, 2015, 2:13:12 PM      17522.0   \n",
       "\n",
       "     Distance  Average Speed  Average Watts  \n",
       "756    111.07      22.819998     262.348999  "
      ]
     },
     "metadata": {},
     "output_type": "display_data"
    },
    {
     "name": "stdout",
     "output_type": "stream",
     "text": [
      "\n",
      "Suurimman keskinopeuden omaavan aktiviteetin tiedot\n"
     ]
    },
    {
     "data": {
      "text/html": [
       "<div>\n",
       "<style scoped>\n",
       "    .dataframe tbody tr th:only-of-type {\n",
       "        vertical-align: middle;\n",
       "    }\n",
       "\n",
       "    .dataframe tbody tr th {\n",
       "        vertical-align: top;\n",
       "    }\n",
       "\n",
       "    .dataframe thead th {\n",
       "        text-align: right;\n",
       "    }\n",
       "</style>\n",
       "<table border=\"1\" class=\"dataframe\">\n",
       "  <thead>\n",
       "    <tr style=\"text-align: right;\">\n",
       "      <th></th>\n",
       "      <th>Activity Name</th>\n",
       "      <th>Activity Date</th>\n",
       "      <th>Moving Time</th>\n",
       "      <th>Distance</th>\n",
       "      <th>Average Speed</th>\n",
       "      <th>Average Watts</th>\n",
       "    </tr>\n",
       "  </thead>\n",
       "  <tbody>\n",
       "    <tr>\n",
       "      <th>459</th>\n",
       "      <td>25/10/2014 Torremolinos, Andalusia, Spain</td>\n",
       "      <td>Oct 25, 2014, 11:25:51 AM</td>\n",
       "      <td>703.0</td>\n",
       "      <td>6.6</td>\n",
       "      <td>33.798009</td>\n",
       "      <td>339.152008</td>\n",
       "    </tr>\n",
       "  </tbody>\n",
       "</table>\n",
       "</div>"
      ],
      "text/plain": [
       "                                 Activity Name              Activity Date  \\\n",
       "459  25/10/2014 Torremolinos, Andalusia, Spain  Oct 25, 2014, 11:25:51 AM   \n",
       "\n",
       "     Moving Time  Distance  Average Speed  Average Watts  \n",
       "459        703.0       6.6      33.798009     339.152008  "
      ]
     },
     "metadata": {},
     "output_type": "display_data"
    },
    {
     "name": "stdout",
     "output_type": "stream",
     "text": [
      "\n"
     ]
    },
    {
     "data": {
      "text/html": [
       "<div>\n",
       "<style scoped>\n",
       "    .dataframe tbody tr th:only-of-type {\n",
       "        vertical-align: middle;\n",
       "    }\n",
       "\n",
       "    .dataframe tbody tr th {\n",
       "        vertical-align: top;\n",
       "    }\n",
       "\n",
       "    .dataframe thead th {\n",
       "        text-align: right;\n",
       "    }\n",
       "</style>\n",
       "<table border=\"1\" class=\"dataframe\">\n",
       "  <thead>\n",
       "    <tr style=\"text-align: right;\">\n",
       "      <th></th>\n",
       "      <th>Kysymys</th>\n",
       "      <th>Vastaus</th>\n",
       "    </tr>\n",
       "  </thead>\n",
       "  <tbody>\n",
       "    <tr>\n",
       "      <th></th>\n",
       "      <td>maksimi HR (bpm)</td>\n",
       "      <td>155.79</td>\n",
       "    </tr>\n",
       "    <tr>\n",
       "      <th></th>\n",
       "      <td>HR keskiarvo (bpm)</td>\n",
       "      <td>135.88</td>\n",
       "    </tr>\n",
       "    <tr>\n",
       "      <th></th>\n",
       "      <td>Tehokkain aktiviteetti</td>\n",
       "      <td>373.77</td>\n",
       "    </tr>\n",
       "  </tbody>\n",
       "</table>\n",
       "</div>"
      ],
      "text/plain": [
       "                 Kysymys  Vastaus\n",
       "        maksimi HR (bpm)   155.79\n",
       "      HR keskiarvo (bpm)   135.88\n",
       "  Tehokkain aktiviteetti   373.77"
      ]
     },
     "metadata": {},
     "output_type": "display_data"
    }
   ],
   "source": [
    "# tähän\n",
    "\n",
    "def dropNanRowByColumn(df,column):\n",
    "    rowsToDrop = df.loc[(df[column].isnull())].index\n",
    "    df.drop(rowsToDrop,inplace=True) \n",
    "\n",
    "q=[]\n",
    "a=[]\n",
    "\n",
    "columns=['Activity Name','Activity Date','Moving Time','Distance','Average Speed','Average Watts']\n",
    "lkm=df2.shape[0]\n",
    "\n",
    "q.append(f\"Aktiviteetteja yhteensä\")\n",
    "a.append(f\"{lkm}\")\n",
    "sum=round(df2['Distance'].sum(),2)\n",
    "\n",
    "q.append(f\"Aktiviteettien matkojen summa\")\n",
    "a.append(f\"{sum} km\")\n",
    "mean=round(df2['Distance'].mean(),2)\n",
    "\n",
    "q.append(f\"Kaikkien aktiviteettien matkojen keskiarvo \")\n",
    "a.append(f\"{mean} km\")\n",
    "max=df2['Distance'].max()\n",
    "\n",
    "q.append(f\"Pisin suoritus\")\n",
    "a.append(f\"{round(max,2)} km\")\n",
    "dfMaxDist=df2.loc[(df2['Distance']==max)]\n",
    "print()\n",
    "mean=round(df2['Average Speed'].mean(),2)\n",
    "\n",
    "q.append(f\"Kaikkien aktiviteettien keskinopeus\")\n",
    "a.append(f\"{mean} km/h\")\n",
    "max=df2['Average Speed'].max()\n",
    "\n",
    "q.append(f\"Suurin Keskinopeus\")\n",
    "a.append(f\"{round(max,2)} km/h\")\n",
    "data={'Kysymys':q,'Vastaus':a}\n",
    "data = pd.DataFrame(data)\n",
    "display(data)\n",
    "\n",
    "print(f\"Pisimmän suorituksen tiedot\")\n",
    "display(dfMaxDist[columns])\n",
    "\n",
    "print()\n",
    "print(\"Suurimman keskinopeuden omaavan aktiviteetin tiedot\")\n",
    "dfMaxSpeed=df2.loc[(df2['Average Speed']==max)]             \n",
    "display(dfMaxSpeed[columns])\n",
    "\n",
    "dfx=df.copy()\n",
    "col='Average Heart Rate'\n",
    "dropNanRowByColumn(dfx,col)\n",
    "\n",
    "print()\n",
    "#print(\"Syke\")\n",
    "max=round(dfx[col].max(),2)\n",
    "mean=round(dfx[col].mean(),2)\n",
    "#data={'Syke':[''],'maksimi':[max],'keskiarvo':[mean],'yksikkö':['bpm']}\n",
    "q=[]\n",
    "a=[]\n",
    "q.append('maksimi HR (bpm)')           \n",
    "a.append(round(max,2))\n",
    "q.append('HR keskiarvo (bpm)')           \n",
    "a.append(mean)\n",
    "q.append('Tehokkain aktiviteetti') \n",
    "max=df2['Average Watts'].max()\n",
    "a.append(round(max,2))\n",
    "\n",
    "data={'Kysymys':q,'Vastaus':a}\n",
    "data = pd.DataFrame(data)\n",
    "blankIndex=[''] * len(data)\n",
    "data.index=blankIndex\n",
    "display(data)\n",
    "\n"
   ]
  },
  {
   "cell_type": "markdown",
   "id": "f87dc19d",
   "metadata": {},
   "source": [
    "#### Vuoden 2013 tilastoja"
   ]
  },
  {
   "cell_type": "code",
   "execution_count": 72,
   "id": "40540805",
   "metadata": {
    "scrolled": false
   },
   "outputs": [
    {
     "name": "stdout",
     "output_type": "stream",
     "text": [
      "Aktiviteetteja yhteensä 236\n",
      "Aktiviteettien matkojen summa 8622.17 km\n",
      "Pisin suoritus 87.19 km\n",
      "\n",
      "Pisimmän suorituksen tiedot\n"
     ]
    },
    {
     "data": {
      "text/html": [
       "<div>\n",
       "<style scoped>\n",
       "    .dataframe tbody tr th:only-of-type {\n",
       "        vertical-align: middle;\n",
       "    }\n",
       "\n",
       "    .dataframe tbody tr th {\n",
       "        vertical-align: top;\n",
       "    }\n",
       "\n",
       "    .dataframe thead th {\n",
       "        text-align: right;\n",
       "    }\n",
       "</style>\n",
       "<table border=\"1\" class=\"dataframe\">\n",
       "  <thead>\n",
       "    <tr style=\"text-align: right;\">\n",
       "      <th></th>\n",
       "      <th>Activity Name</th>\n",
       "      <th>Activity Date</th>\n",
       "      <th>Moving Time</th>\n",
       "      <th>Distance</th>\n",
       "      <th>Average Speed</th>\n",
       "      <th>Average Watts</th>\n",
       "    </tr>\n",
       "  </thead>\n",
       "  <tbody>\n",
       "    <tr>\n",
       "      <th>231</th>\n",
       "      <td>29/11/2013 Málaga, Andalucía, Spain</td>\n",
       "      <td>Nov 29, 2013, 11:36:39 AM</td>\n",
       "      <td>11577.0</td>\n",
       "      <td>87.19</td>\n",
       "      <td>27.112724</td>\n",
       "      <td>294.987</td>\n",
       "    </tr>\n",
       "  </tbody>\n",
       "</table>\n",
       "</div>"
      ],
      "text/plain": [
       "                           Activity Name              Activity Date  \\\n",
       "231  29/11/2013 Málaga, Andalucía, Spain  Nov 29, 2013, 11:36:39 AM   \n",
       "\n",
       "     Moving Time  Distance  Average Speed  Average Watts  \n",
       "231      11577.0     87.19      27.112724        294.987  "
      ]
     },
     "metadata": {},
     "output_type": "display_data"
    },
    {
     "name": "stdout",
     "output_type": "stream",
     "text": [
      "Kaikkien aktiviteettien matkojen keskiarvo 36.53 km\n",
      "Kaikkien aktiviteettien keskinopeus 25.14 km/h\n",
      "\n",
      "5 pisintä matkaa vuonna 2013\n"
     ]
    },
    {
     "data": {
      "text/html": [
       "<div>\n",
       "<style scoped>\n",
       "    .dataframe tbody tr th:only-of-type {\n",
       "        vertical-align: middle;\n",
       "    }\n",
       "\n",
       "    .dataframe tbody tr th {\n",
       "        vertical-align: top;\n",
       "    }\n",
       "\n",
       "    .dataframe thead th {\n",
       "        text-align: right;\n",
       "    }\n",
       "</style>\n",
       "<table border=\"1\" class=\"dataframe\">\n",
       "  <thead>\n",
       "    <tr style=\"text-align: right;\">\n",
       "      <th></th>\n",
       "      <th>Activity Name</th>\n",
       "      <th>Activity Date</th>\n",
       "      <th>Moving Time</th>\n",
       "      <th>Distance</th>\n",
       "      <th>Average Speed</th>\n",
       "      <th>Average Watts</th>\n",
       "    </tr>\n",
       "  </thead>\n",
       "  <tbody>\n",
       "    <tr>\n",
       "      <th>231</th>\n",
       "      <td>29/11/2013 Málaga, Andalucía, Spain</td>\n",
       "      <td>Nov 29, 2013, 11:36:39 AM</td>\n",
       "      <td>11577.0</td>\n",
       "      <td>87.19</td>\n",
       "      <td>27.112724</td>\n",
       "      <td>294.987000</td>\n",
       "    </tr>\n",
       "    <tr>\n",
       "      <th>54</th>\n",
       "      <td>11/12/2013 Málaga, Andalucía, Spain</td>\n",
       "      <td>Nov 12, 2013, 12:40:55 PM</td>\n",
       "      <td>10239.0</td>\n",
       "      <td>75.66</td>\n",
       "      <td>26.601817</td>\n",
       "      <td>328.000000</td>\n",
       "    </tr>\n",
       "    <tr>\n",
       "      <th>225</th>\n",
       "      <td>11/24/2013 Málaga, Andalucía, Spain</td>\n",
       "      <td>Nov 24, 2013, 11:55:44 AM</td>\n",
       "      <td>9267.0</td>\n",
       "      <td>74.52</td>\n",
       "      <td>28.949174</td>\n",
       "      <td>272.385986</td>\n",
       "    </tr>\n",
       "    <tr>\n",
       "      <th>30</th>\n",
       "      <td>10/27/2013 Málaga, Andalucía, Spain</td>\n",
       "      <td>Oct 27, 2013, 2:46:31 PM</td>\n",
       "      <td>9753.0</td>\n",
       "      <td>72.83</td>\n",
       "      <td>26.882805</td>\n",
       "      <td>314.028015</td>\n",
       "    </tr>\n",
       "    <tr>\n",
       "      <th>237</th>\n",
       "      <td>03/12/2013 Málaga, Andalucía, Spain</td>\n",
       "      <td>Dec 3, 2013, 12:54:11 PM</td>\n",
       "      <td>8960.0</td>\n",
       "      <td>68.87</td>\n",
       "      <td>27.670982</td>\n",
       "      <td>275.170013</td>\n",
       "    </tr>\n",
       "  </tbody>\n",
       "</table>\n",
       "</div>"
      ],
      "text/plain": [
       "                           Activity Name              Activity Date  \\\n",
       "231  29/11/2013 Málaga, Andalucía, Spain  Nov 29, 2013, 11:36:39 AM   \n",
       "54   11/12/2013 Málaga, Andalucía, Spain  Nov 12, 2013, 12:40:55 PM   \n",
       "225  11/24/2013 Málaga, Andalucía, Spain  Nov 24, 2013, 11:55:44 AM   \n",
       "30   10/27/2013 Málaga, Andalucía, Spain   Oct 27, 2013, 2:46:31 PM   \n",
       "237  03/12/2013 Málaga, Andalucía, Spain   Dec 3, 2013, 12:54:11 PM   \n",
       "\n",
       "     Moving Time  Distance  Average Speed  Average Watts  \n",
       "231      11577.0     87.19      27.112724     294.987000  \n",
       "54       10239.0     75.66      26.601817     328.000000  \n",
       "225       9267.0     74.52      28.949174     272.385986  \n",
       "30        9753.0     72.83      26.882805     314.028015  \n",
       "237       8960.0     68.87      27.670982     275.170013  "
      ]
     },
     "metadata": {},
     "output_type": "display_data"
    }
   ],
   "source": [
    "#print(\"Vuoden 2013 aktiviteettien tietoja:\")\n",
    "year=2013\n",
    "yearData=df2.loc[(df2['Year']==year)]\n",
    "lkm=yearData.shape[0]\n",
    "print(f\"Aktiviteetteja yhteensä {lkm}\")\n",
    "sum=round(yearData['Distance'].sum(),2)\n",
    "print(f\"Aktiviteettien matkojen summa {sum} km\")\n",
    "\n",
    "max=yearData['Distance'].max()\n",
    "print(f\"Pisin suoritus {max} km\")\n",
    "dfMax=yearData.loc[(yearData['Distance']==max)]\n",
    "print()\n",
    "print(f\"Pisimmän suorituksen tiedot\")\n",
    "display(dfMax[columns])\n",
    "\n",
    "mean=round(yearData['Distance'].mean(),2)\n",
    "print(f\"Kaikkien aktiviteettien matkojen keskiarvo {mean} km\")\n",
    "\n",
    "mean=round(yearData['Average Speed'].mean(),2)\n",
    "print(f\"Kaikkien aktiviteettien keskinopeus {mean} km/h\")\n",
    "print()\n",
    "print(f\"5 pisintä matkaa vuonna {year}\")\n",
    "top5Distance=yearData.sort_values(by=['Distance'],ascending=False)[:5]\n",
    "display(top5Distance[columns])\n",
    "\n"
   ]
  },
  {
   "cell_type": "markdown",
   "id": "f4033bf7",
   "metadata": {},
   "source": [
    "#### Talvikauden tietoja vuonna 2013"
   ]
  },
  {
   "cell_type": "code",
   "execution_count": 73,
   "id": "0e6cbf90",
   "metadata": {},
   "outputs": [
    {
     "name": "stdout",
     "output_type": "stream",
     "text": [
      "Aktiviteetteja yhteensä 53\n",
      "Aktiviteettien matkojen summa 1397.23 km\n",
      "Pisin suoritus 68.87 km\n",
      "\n",
      "Pisimmän suorituksen tiedot\n"
     ]
    },
    {
     "data": {
      "text/html": [
       "<div>\n",
       "<style scoped>\n",
       "    .dataframe tbody tr th:only-of-type {\n",
       "        vertical-align: middle;\n",
       "    }\n",
       "\n",
       "    .dataframe tbody tr th {\n",
       "        vertical-align: top;\n",
       "    }\n",
       "\n",
       "    .dataframe thead th {\n",
       "        text-align: right;\n",
       "    }\n",
       "</style>\n",
       "<table border=\"1\" class=\"dataframe\">\n",
       "  <thead>\n",
       "    <tr style=\"text-align: right;\">\n",
       "      <th></th>\n",
       "      <th>Activity Name</th>\n",
       "      <th>Activity Date</th>\n",
       "      <th>Moving Time</th>\n",
       "      <th>Distance</th>\n",
       "      <th>Average Speed</th>\n",
       "      <th>Average Watts</th>\n",
       "    </tr>\n",
       "  </thead>\n",
       "  <tbody>\n",
       "    <tr>\n",
       "      <th>237</th>\n",
       "      <td>03/12/2013 Málaga, Andalucía, Spain</td>\n",
       "      <td>Dec 3, 2013, 12:54:11 PM</td>\n",
       "      <td>8960.0</td>\n",
       "      <td>68.87</td>\n",
       "      <td>27.670982</td>\n",
       "      <td>275.170013</td>\n",
       "    </tr>\n",
       "  </tbody>\n",
       "</table>\n",
       "</div>"
      ],
      "text/plain": [
       "                           Activity Name             Activity Date  \\\n",
       "237  03/12/2013 Málaga, Andalucía, Spain  Dec 3, 2013, 12:54:11 PM   \n",
       "\n",
       "     Moving Time  Distance  Average Speed  Average Watts  \n",
       "237       8960.0     68.87      27.670982     275.170013  "
      ]
     },
     "metadata": {},
     "output_type": "display_data"
    },
    {
     "name": "stdout",
     "output_type": "stream",
     "text": [
      "Kaikkien aktiviteettien matkojen keskiarvo 26.36 km\n",
      "Kaikkien aktiviteettien keskinopeus 23.1 km/h\n"
     ]
    }
   ],
   "source": [
    "dfSeason=yearData.loc[(yearData['Season']=='Winter')]\n",
    "lkm=dfSeason.shape[0]\n",
    "print(f\"Aktiviteetteja yhteensä {lkm}\")\n",
    "\n",
    "sum=dfSeason['Distance'].sum()\n",
    "print(f\"Aktiviteettien matkojen summa {sum} km\")\n",
    "\n",
    "max=dfSeason['Distance'].max()\n",
    "print(f\"Pisin suoritus {max} km\")\n",
    "dfMax=dfSeason.loc[(yearData['Distance']==max)]\n",
    "print()\n",
    "print(f\"Pisimmän suorituksen tiedot\")\n",
    "display(dfMax[columns])\n",
    "\n",
    "mean=round(dfSeason['Distance'].mean(),2)\n",
    "print(f\"Kaikkien aktiviteettien matkojen keskiarvo {mean} km\")\n",
    "\n",
    "mean=round(dfSeason['Average Speed'].mean(),2)\n",
    "print(f\"Kaikkien aktiviteettien keskinopeus {mean} km/h\")\n"
   ]
  },
  {
   "cell_type": "markdown",
   "id": "21c9aeae",
   "metadata": {},
   "source": [
    "## Lineaarinen regressio"
   ]
  },
  {
   "cell_type": "markdown",
   "id": "aa6bf5ca",
   "metadata": {},
   "source": [
    "Suoritetaan regressio matkan ja keskinopeuden suhteen. Regression avulla voidaan ennustaa matkan perusteella keskinopeus."
   ]
  },
  {
   "cell_type": "code",
   "execution_count": 119,
   "id": "9d1a6b42",
   "metadata": {},
   "outputs": [
    {
     "data": {
      "image/png": "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\n",
      "text/plain": [
       "<Figure size 1224x720 with 1 Axes>"
      ]
     },
     "metadata": {},
     "output_type": "display_data"
    },
    {
     "name": "stdout",
     "output_type": "stream",
     "text": [
      "Matka 20 km, arvioitu keskinopeus on 24.4 km/h\n"
     ]
    }
   ],
   "source": [
    "\n",
    "from sklearn.linear_model import LinearRegression\n",
    "def linearRegression(df,columns,value,text):\n",
    "\n",
    "    X = np.array(df[columns[0]]).reshape(-1, 1)\n",
    "    y = np.array(df[columns[1]]).reshape(-1, 1)\n",
    "\n",
    "    X_train, X_test, y_train, y_test = train_test_split(X, y, test_size = 0.25)\n",
    "    \n",
    "    model = LinearRegression()\n",
    "\n",
    "    model.fit(X_train, y_train)\n",
    "    \n",
    "    y_pred = model.predict(X_test)\n",
    "\n",
    "    sns.set_style('dark')\n",
    "    plt.figure()\n",
    "    plt.gcf().set_size_inches(17, 10)\n",
    "    plt.scatter(X_test, y_test, color ='orange')\n",
    "    plt.plot(X_test, y_pred, color ='k')\n",
    "    \n",
    "    x_pre = [[value]]    \n",
    "    y_pre = model.predict(x_pre)\n",
    "    \n",
    "    plt.plot(x_pre,y_pre, marker='o', c=\"navy\", ms=20,ls='none')\n",
    "\n",
    "    plt.xlabel(columns[0], size=14)\n",
    "    plt.ylabel(columns[1], size=14)\n",
    "    plt.title(f\"{text}\",size=16)\n",
    "    plt.xticks(fontsize=14)\n",
    "    plt.yticks(fontsize=14)\n",
    "\n",
    "    plt.show()\n",
    "    return y_pre\n",
    "\n",
    "columns=['Distance','Average Speed']\n",
    "value=20\n",
    "text=\"Matkan pituuden vaikutus keskinopeuteen (koko aineisto)\"\n",
    "result=linearRegression(df2,columns,value,text)\n",
    "print(f'Matka {value} km, arvioitu keskinopeus on {round(result[0][0],2)} km/h')"
   ]
  },
  {
   "cell_type": "markdown",
   "id": "dfd72230",
   "metadata": {},
   "source": [
    "Yleisesti ottaen luulisi vauhdin/nopeuden hyytyvän kun matka pitenee tietyn rajan yli, mutta \\\n",
    "kaaviosta voidaan havaita, että vauhti ei hidastu matkojen pidentyessä. \\\n",
    "Tähän on selitys: ensinnäkin nyt käytetty aineisto on 10 vuoden ajalta niin muutosta on tapahtunut siten, että pidempiä \\\n",
    "matkoja ei tule enää harrastettua, lisäksi ajan hyvin tasaisesti matkan kuin matkan ja matkojen pituus on pysynyt tietyssä \\\n",
    "pienessä vaihteluvälissä jolloin on voinut määrätietoisen tehokkaasti tehdä suoritukset. \n",
    "\n",
    "Voidaan tehdä koe vaikka viime vuodesta 2021 niin tilanne onkin varmaan toinen."
   ]
  },
  {
   "cell_type": "code",
   "execution_count": 123,
   "id": "fff88673",
   "metadata": {},
   "outputs": [
    {
     "data": {
      "image/png": "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\n",
      "text/plain": [
       "<Figure size 1224x720 with 1 Axes>"
      ]
     },
     "metadata": {},
     "output_type": "display_data"
    },
    {
     "name": "stdout",
     "output_type": "stream",
     "text": [
      "Matka 20 km, arvioitu keskinopeus on 24.57 km/h\n"
     ]
    }
   ],
   "source": [
    "data=df2.loc[(df2['Year']==2021)]\n",
    "value=20\n",
    "text=\"Matkan pituuden vaikutus keskinopeuteen (vuosi 2021)\"\n",
    "result=linearRegression(data,columns,value,text)\n",
    "print(f'Matka {value} km, arvioitu keskinopeus on {round(result[0][0],2)} km/h')"
   ]
  },
  {
   "cell_type": "markdown",
   "id": "cdde2559",
   "metadata": {},
   "source": [
    "Tuli todistettua, että nopeus on säilynyt matkojen lyhentyessä. \\\n",
    "Mutta mites talviaikana?"
   ]
  },
  {
   "cell_type": "code",
   "execution_count": 122,
   "id": "9d45e213",
   "metadata": {},
   "outputs": [
    {
     "data": {
      "text/plain": [
       "(536, 13)"
      ]
     },
     "metadata": {},
     "output_type": "display_data"
    },
    {
     "data": {
      "image/png": "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\n",
      "text/plain": [
       "<Figure size 1224x720 with 1 Axes>"
      ]
     },
     "metadata": {},
     "output_type": "display_data"
    },
    {
     "name": "stdout",
     "output_type": "stream",
     "text": [
      "Matka 20 km, arvioitu keskinopeus on 21.83 km/h \n"
     ]
    }
   ],
   "source": [
    "def getSeason(month):\n",
    "    seasons=['Spring','Summer','Autumn','Winter']\n",
    "    \n",
    "    if (month>=3) & (month>=5):\n",
    "        return seasons[0]\n",
    "    elif (month>=6) & (month>=8):\n",
    "        return seasons[1]\n",
    "    elif (month>=9) & (month>=11):\n",
    "        return seasons[2]    \n",
    "    elif (month==12) | (month==1) | (month==2):        \n",
    "        return seasons[3]\n",
    "   \n",
    "season=getSeason(1)\n",
    "\n",
    "dfForSeason=df2.loc[df2['Season']==season]\n",
    "display(dfForSeason.shape)\n",
    "\n",
    "columns=['Distance','Average Speed']\n",
    "value=20\n",
    "text=text=\"Matkan pituuden vaikutus keskinopeuteen (koko aineisto talikuukausien 11,1,2 osalta)\"\n",
    "result=linearRegression(dfForSeason,columns,value,text)\n",
    "print(f'Matka {value} km, arvioitu keskinopeus on {round(result[0][0],2)} km/h ')\n"
   ]
  },
  {
   "cell_type": "markdown",
   "id": "908cbc5e",
   "metadata": {},
   "source": [
    "Edelleenkään nopeus ei laske matkan pituuden kasvaessa. Matkat ovat talvisin lyhyempiä ja nopeus hitaampaa, suoritustaso pysyy vakaana talvisinkin."
   ]
  },
  {
   "cell_type": "markdown",
   "id": "d0cd716e",
   "metadata": {},
   "source": [
    "## Luokittelu"
   ]
  },
  {
   "cell_type": "markdown",
   "id": "bc9e6feb",
   "metadata": {},
   "source": [
    "Toteutetaan luokitus perustuen em. (esikäsittely) esille tulleisiin seikkoihin. \\\n",
    "Suureilla 'Average Speed' ja 'Average Watts' näyttäisi olevan melko hyvä riippuvuussuhde."
   ]
  },
  {
   "cell_type": "code",
   "execution_count": 118,
   "id": "a6cef61b",
   "metadata": {},
   "outputs": [
    {
     "data": {
      "text/html": [
       "<div>\n",
       "<style scoped>\n",
       "    .dataframe tbody tr th:only-of-type {\n",
       "        vertical-align: middle;\n",
       "    }\n",
       "\n",
       "    .dataframe tbody tr th {\n",
       "        vertical-align: top;\n",
       "    }\n",
       "\n",
       "    .dataframe thead th {\n",
       "        text-align: right;\n",
       "    }\n",
       "</style>\n",
       "<table border=\"1\" class=\"dataframe\">\n",
       "  <thead>\n",
       "    <tr style=\"text-align: right;\">\n",
       "      <th></th>\n",
       "      <th>Moving Time</th>\n",
       "      <th>Distance</th>\n",
       "      <th>Average Speed</th>\n",
       "      <th>Average Watts</th>\n",
       "    </tr>\n",
       "  </thead>\n",
       "  <tbody>\n",
       "    <tr>\n",
       "      <th>Moving Time</th>\n",
       "      <td>1.000000</td>\n",
       "      <td>0.974971</td>\n",
       "      <td>0.168723</td>\n",
       "      <td>0.064662</td>\n",
       "    </tr>\n",
       "    <tr>\n",
       "      <th>Distance</th>\n",
       "      <td>0.974971</td>\n",
       "      <td>1.000000</td>\n",
       "      <td>0.359912</td>\n",
       "      <td>0.220676</td>\n",
       "    </tr>\n",
       "    <tr>\n",
       "      <th>Average Speed</th>\n",
       "      <td>0.168723</td>\n",
       "      <td>0.359912</td>\n",
       "      <td>1.000000</td>\n",
       "      <td>0.847092</td>\n",
       "    </tr>\n",
       "    <tr>\n",
       "      <th>Average Watts</th>\n",
       "      <td>0.064662</td>\n",
       "      <td>0.220676</td>\n",
       "      <td>0.847092</td>\n",
       "      <td>1.000000</td>\n",
       "    </tr>\n",
       "  </tbody>\n",
       "</table>\n",
       "</div>"
      ],
      "text/plain": [
       "               Moving Time  Distance  Average Speed  Average Watts\n",
       "Moving Time       1.000000  0.974971       0.168723       0.064662\n",
       "Distance          0.974971  1.000000       0.359912       0.220676\n",
       "Average Speed     0.168723  0.359912       1.000000       0.847092\n",
       "Average Watts     0.064662  0.220676       0.847092       1.000000"
      ]
     },
     "metadata": {},
     "output_type": "display_data"
    }
   ],
   "source": [
    "columns=['Moving Time','Distance','Average Speed','Average Watts']\n",
    "display(df2[columns].corr())"
   ]
  },
  {
   "cell_type": "markdown",
   "id": "2d865dd8",
   "metadata": {},
   "source": [
    "Täten suoritukset luokitellaan sarakkeiden \"Average Watts\" ja \"Average Speed\" mukaan niin, että luokitus on näiden kahden \n",
    "sarakkeen luokitusten \\\n",
    "keskiarvo pyöristettynä ylöspäin seuraavaan kokonaislukuun. Em. sarakekohtainen luokitus perustuu tasaisiin jakoihin minimin ja maksimin suhteen.\n",
    "\n",
    "Average Watts on estimoitu arvo, joka perustuu johonkin malliin/kaavaan (tiedä vaikka perustuisi tekoälyyn kone-/syväoppimiseen), mahdollisesti gps-dataa hyödynnetään laskennassa.\n"
   ]
  },
  {
   "cell_type": "code",
   "execution_count": 25,
   "id": "efdd1e1e",
   "metadata": {
    "scrolled": false
   },
   "outputs": [
    {
     "name": "stdout",
     "output_type": "stream",
     "text": [
      "mean= 24.872510986513845\n",
      "min= 5.483304042179262\n",
      "max= 33.79800853485064\n"
     ]
    },
    {
     "data": {
      "text/html": [
       "<div>\n",
       "<style scoped>\n",
       "    .dataframe tbody tr th:only-of-type {\n",
       "        vertical-align: middle;\n",
       "    }\n",
       "\n",
       "    .dataframe tbody tr th {\n",
       "        vertical-align: top;\n",
       "    }\n",
       "\n",
       "    .dataframe thead th {\n",
       "        text-align: right;\n",
       "    }\n",
       "</style>\n",
       "<table border=\"1\" class=\"dataframe\">\n",
       "  <thead>\n",
       "    <tr style=\"text-align: right;\">\n",
       "      <th></th>\n",
       "      <th>&gt;=</th>\n",
       "      <th>&lt;</th>\n",
       "      <th>Grade</th>\n",
       "    </tr>\n",
       "  </thead>\n",
       "  <tbody>\n",
       "    <tr>\n",
       "      <th>0</th>\n",
       "      <td>5.483</td>\n",
       "      <td>10.202</td>\n",
       "      <td>0</td>\n",
       "    </tr>\n",
       "    <tr>\n",
       "      <th>1</th>\n",
       "      <td>10.202</td>\n",
       "      <td>14.922</td>\n",
       "      <td>1</td>\n",
       "    </tr>\n",
       "    <tr>\n",
       "      <th>2</th>\n",
       "      <td>14.922</td>\n",
       "      <td>19.641</td>\n",
       "      <td>2</td>\n",
       "    </tr>\n",
       "    <tr>\n",
       "      <th>3</th>\n",
       "      <td>19.641</td>\n",
       "      <td>24.36</td>\n",
       "      <td>3</td>\n",
       "    </tr>\n",
       "    <tr>\n",
       "      <th>4</th>\n",
       "      <td>24.360</td>\n",
       "      <td>29.079</td>\n",
       "      <td>4</td>\n",
       "    </tr>\n",
       "    <tr>\n",
       "      <th>5</th>\n",
       "      <td>29.079</td>\n",
       "      <td></td>\n",
       "      <td>5</td>\n",
       "    </tr>\n",
       "  </tbody>\n",
       "</table>\n",
       "</div>"
      ],
      "text/plain": [
       "       >=       <  Grade\n",
       "0   5.483  10.202      0\n",
       "1  10.202  14.922      1\n",
       "2  14.922  19.641      2\n",
       "3  19.641   24.36      3\n",
       "4  24.360  29.079      4\n",
       "5  29.079              5"
      ]
     },
     "metadata": {},
     "output_type": "display_data"
    },
    {
     "name": "stdout",
     "output_type": "stream",
     "text": [
      "mean= 274.825229343281\n",
      "min= 52.0610580444336\n",
      "max= 373.7703247070313\n"
     ]
    },
    {
     "data": {
      "text/html": [
       "<div>\n",
       "<style scoped>\n",
       "    .dataframe tbody tr th:only-of-type {\n",
       "        vertical-align: middle;\n",
       "    }\n",
       "\n",
       "    .dataframe tbody tr th {\n",
       "        vertical-align: top;\n",
       "    }\n",
       "\n",
       "    .dataframe thead th {\n",
       "        text-align: right;\n",
       "    }\n",
       "</style>\n",
       "<table border=\"1\" class=\"dataframe\">\n",
       "  <thead>\n",
       "    <tr style=\"text-align: right;\">\n",
       "      <th></th>\n",
       "      <th>&gt;=</th>\n",
       "      <th>&lt;</th>\n",
       "      <th>Grade</th>\n",
       "    </tr>\n",
       "  </thead>\n",
       "  <tbody>\n",
       "    <tr>\n",
       "      <th>0</th>\n",
       "      <td>52.061</td>\n",
       "      <td>105.679</td>\n",
       "      <td>0</td>\n",
       "    </tr>\n",
       "    <tr>\n",
       "      <th>1</th>\n",
       "      <td>105.679</td>\n",
       "      <td>159.297</td>\n",
       "      <td>1</td>\n",
       "    </tr>\n",
       "    <tr>\n",
       "      <th>2</th>\n",
       "      <td>159.297</td>\n",
       "      <td>212.916</td>\n",
       "      <td>2</td>\n",
       "    </tr>\n",
       "    <tr>\n",
       "      <th>3</th>\n",
       "      <td>212.916</td>\n",
       "      <td>266.534</td>\n",
       "      <td>3</td>\n",
       "    </tr>\n",
       "    <tr>\n",
       "      <th>4</th>\n",
       "      <td>266.534</td>\n",
       "      <td>320.152</td>\n",
       "      <td>4</td>\n",
       "    </tr>\n",
       "    <tr>\n",
       "      <th>5</th>\n",
       "      <td>320.152</td>\n",
       "      <td></td>\n",
       "      <td>5</td>\n",
       "    </tr>\n",
       "  </tbody>\n",
       "</table>\n",
       "</div>"
      ],
      "text/plain": [
       "        >=        <  Grade\n",
       "0   52.061  105.679      0\n",
       "1  105.679  159.297      1\n",
       "2  159.297  212.916      2\n",
       "3  212.916  266.534      3\n",
       "4  266.534  320.152      4\n",
       "5  320.152               5"
      ]
     },
     "metadata": {},
     "output_type": "display_data"
    }
   ],
   "source": [
    "def getClassifyLimits(column,_max):\n",
    "    mean=df2[column].mean()\n",
    "    print(f'mean= {mean}')\n",
    "    min=df2[column].min()\n",
    "    print(f'min= {min}')\n",
    "    max=df2[column].max()\n",
    "    print(f'max= {max}')\n",
    "\n",
    "    lims = np.linspace(min, max, 7, endpoint = True).round(3)\n",
    "\n",
    "    mins=[]\n",
    "    maxs=[]\n",
    "    grades=[]\n",
    "    \n",
    "    for i in range(_max):            \n",
    "        mins.append(lims[i])\n",
    "        maxs.append(lims[i+1])\n",
    "        grades.append(i)\n",
    "    mins.append(lims[_max])\n",
    "    maxs.append('')\n",
    "    grades.append(_max)\n",
    "\n",
    "    data={'>=':mins,'<':maxs, 'Grade':grades}\n",
    "    data = pd.DataFrame(data)\n",
    "    return data\n",
    "\n",
    "def doClassify(column,newColumn,_max):\n",
    "    \n",
    "    data=getClassifyLimits(column,_max)\n",
    "    display(data)\n",
    "\n",
    "    for i in range(_max):            \n",
    "        df2.loc[(df2[column] >= data.iloc[i][0]) & (df2[column] < data.iloc[i][1]), newColumn] = i\n",
    "    df2.loc[(df2[column] >= data.iloc[_max][0]), newColumn] = _max\n",
    "\n",
    "doClassify('Average Speed','GradeSpeed',5) \n",
    "doClassify('Average Watts','GradeWatts',5)    \n",
    "\n",
    "# pyöristetään ylöspäin\n",
    "df2['Grade']=(df2['GradeSpeed']+df2['GradeWatts'])/2+((df2['GradeSpeed']+df2['GradeWatts'])%2)/2\n",
    "df2['Grade']=df2['Grade'].astype(int)\n",
    "## dropataan apukentät\n",
    "df2.drop(['GradeWatts','GradeSpeed'], axis=1,inplace=True)"
   ]
  },
  {
   "cell_type": "markdown",
   "id": "3a7e9409",
   "metadata": {},
   "source": [
    "#### value_counts"
   ]
  },
  {
   "cell_type": "code",
   "execution_count": 126,
   "id": "2c0af728",
   "metadata": {
    "scrolled": false
   },
   "outputs": [
    {
     "name": "stdout",
     "output_type": "stream",
     "text": [
      "Value counts\n"
     ]
    },
    {
     "data": {
      "text/plain": [
       "4    1410\n",
       "3     586\n",
       "5     302\n",
       "2      94\n",
       "0       7\n",
       "1       5\n",
       "Name: Grade, dtype: int64"
      ]
     },
     "metadata": {},
     "output_type": "display_data"
    }
   ],
   "source": [
    "print(\"Value counts\")\n",
    "display(df2['Grade'].value_counts())"
   ]
  },
  {
   "cell_type": "markdown",
   "id": "b6303762",
   "metadata": {},
   "source": [
    "## Koneoppimismenetelmät"
   ]
  },
  {
   "cell_type": "markdown",
   "id": "542c9d39",
   "metadata": {},
   "source": [
    "Testataan luokiteltua aineistoa muutamalla koneoppimismenetelmällä."
   ]
  },
  {
   "cell_type": "code",
   "execution_count": 26,
   "id": "b1935dd0",
   "metadata": {},
   "outputs": [],
   "source": [
    "from sklearn.preprocessing import StandardScaler\n",
    "from sklearn.metrics import confusion_matrix,accuracy_score\n",
    "\n",
    "df3=df2[['Average Speed','Average Watts','Moving Time','Distance','Grade']]\n",
    "\n",
    "X = df3.drop(['Grade'], axis=1)\n",
    "y = df3['Grade']\n",
    "\n",
    "X_train, X_test, y_train, y_test = train_test_split(X, y,test_size=0.25)\n",
    "\n",
    "ss = StandardScaler()\n",
    "ss.fit(X_train)\n",
    "X_train = ss.transform(X_train)\n",
    "X_test = ss.transform(X_test)\n",
    "\n",
    "\n",
    "from sklearn.metrics import confusion_matrix,accuracy_score,roc_curve,roc_auc_score\n",
    "def plot_roc_curve(y_test,y_pred,label):    \n",
    "    fpr, tpr, _ = roc_curve(y_test, y_pred)\n",
    "    auc = round(roc_auc_score(y_test, y_pred), 2)\n",
    "    plt.plot(fpr,tpr,label=f\"{label}, AUC={auc}\",linewidth=3)\n",
    "    plt.legend()\n",
    "\n",
    "\n",
    "import seaborn as sns\n",
    "def confisionMatrix(y_test,y_pred,title):        \n",
    "    plt.figure()    \n",
    "    acc = accuracy_score(y_test, y_pred)\n",
    "    cm = confusion_matrix(y_test, y_pred,labels=[0,1,2,3,4,5])\n",
    "    sns.heatmap(cm, annot=True,cbar=False,fmt=\"d\",cmap='Blues')\n",
    "    plt.title(f'{title} \\n {acc}',size=14,loc='left')\n",
    "    \n",
    "from sklearn.naive_bayes import GaussianNB\n",
    "def gnb(X_train, y_train,X_test,p):\n",
    "    gnb = GaussianNB()\n",
    "    gnb.fit(X_train, y_train)\n",
    "    if p==0:    \n",
    "        return gnb.predict(X_test)\n",
    "    else:\n",
    "        return gnb\n",
    "        \n",
    "from sklearn.neighbors import KNeighborsClassifier\n",
    "def knn(X_train, y_train,X_test,p):\n",
    "    knn = KNeighborsClassifier(n_neighbors=4) # HUOM parametri\n",
    "    knn.fit(X_train, y_train)\n",
    "    if p==0:\n",
    "        return knn.predict(X_test)\n",
    "    else:\n",
    "        return knn\n",
    "\n",
    "from sklearn.svm import LinearSVC\n",
    "def svm(X_train, y_train,X_test,p):\n",
    "    svm = LinearSVC(max_iter=1000)\n",
    "    svm.fit(X_train, y_train)\n",
    "    if p==0:\n",
    "        return svm.predict(X_test)\n",
    "    else:\n",
    "        return svm\n",
    "\n",
    "from sklearn.ensemble import RandomForestClassifier\n",
    "def rfc(X_train, y_train,X_test,p):    \n",
    "    rfc = RandomForestClassifier()\n",
    "    rfc.fit(X_train, y_train)\n",
    "    if p==0:\n",
    "        return rfc.predict(X_test)\n",
    "    else:\n",
    "        return rfc\n",
    " \n",
    "from sklearn.tree import DecisionTreeClassifier\n",
    "def dtc(X_train, y_train,X_test,p):\n",
    "    dtc = DecisionTreeClassifier()    \n",
    "    dtc.fit(X_train, y_train) \n",
    "    if p==0:\n",
    "        return dtc.predict(X_test)\n",
    "    else:\n",
    "        return dtc\n"
   ]
  },
  {
   "cell_type": "code",
   "execution_count": 27,
   "id": "8f1fa2c3",
   "metadata": {},
   "outputs": [
    {
     "data": {
      "image/png": "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\n",
      "text/plain": [
       "<Figure size 432x288 with 1 Axes>"
      ]
     },
     "metadata": {},
     "output_type": "display_data"
    },
    {
     "data": {
      "image/png": "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\n",
      "text/plain": [
       "<Figure size 432x288 with 1 Axes>"
      ]
     },
     "metadata": {},
     "output_type": "display_data"
    },
    {
     "data": {
      "image/png": "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\n",
      "text/plain": [
       "<Figure size 432x288 with 1 Axes>"
      ]
     },
     "metadata": {},
     "output_type": "display_data"
    },
    {
     "data": {
      "image/png": "iVBORw0KGgoAAAANSUhEUgAAAW0AAAEZCAYAAABcsnT1AAAAOXRFWHRTb2Z0d2FyZQBNYXRwbG90bGliIHZlcnNpb24zLjQuMywgaHR0cHM6Ly9tYXRwbG90bGliLm9yZy/MnkTPAAAACXBIWXMAAAsTAAALEwEAmpwYAAAvfUlEQVR4nO3dd1gUZ9s28BNBREEhopLE9mji2lCKirEigmBXkMSKBSwxscQHlYixABZ4bUnAHqOvGCNBBWuioj7hsaWogGIhoCIExRILuyLLuvf3Bx/zukERk4VlNufvODwOZ2fZua6d5dzh3tl7TIQQAkREJAtVDF0AERGVHUObiEhGGNpERDLC0CYikhGGNhGRjDC0iYhkpNxDu2fPnmjevLn0r0WLFnBxccHkyZNx69atcttu9+7dsXv3br0/7k8//aTTz/P/Nm3apPftvcr9+/dx8OBBndvUajXWrFmDPn36wMHBAe7u7li+fDmUSqV0n549eyI2NrZca2vevDlOnToFAFAqlRgxYgTatGmDVatWVcj2iYyRWUVs5NNPP0X//v0BAFqtFunp6ViwYAGCgoKwdevWiihB7xITE1Gliu57npWVVYXXsXz5chQWFqJv374AigJ79OjRUKlUmDlzJhQKBW7cuIGlS5ciOTkZmzdvhplZhex2nDhxAtbW1gCAnTt3IjMzE/Hx8bC1tcWYMWNQo0aNCqmDyJhUyG+vlZUV6tatKy3b2dlh2rRpmDVrFvLy8lCzZs2KKEOvbG1tKyz8SvPn70Zt2rQJmZmZOHjwIN544w0AQMOGDdG4cWP07t0bhw8flgK+vD2/z5VKJRo2bIh33nmnQrZNZKwMNqZtbm5eVMD/P1rNyMjA+PHj4eTkhDZt2mD48OH47bffABQNSXTv3h0xMTHo3r07OnbsiFmzZuHp06fS4+3YsQOurq5o164d1q9fr7MtrVaLr776Ch4eHmjbti1GjRqFK1euSOubN2+OAwcOSMMJgYGByMrKgp+fHxwcHDBq1CjcuXOnzL09evQI8+bNQ+fOneHs7IzAwEA8fPhQp5fQ0FC0a9cOkZGRAICYmBi4u7vDyckJw4cPR0pKivR4P/30E3x8fNC2bVv06NFD6i8yMhJxcXHYt28fevbsCQCIi4vDkCFDpMAu1qhRI2zduhXdunUrUa9SqcTcuXPRqVMn2Nvbw8vLC4cOHZLW//DDD+jbty/atGkDT09P7Nq1q0zriodHPv30U0RGRuL8+fNo3rw5srOzdYZHhBBYs2YNunXrhnbt2iEgIAA3btzQeZzPP/8c7733HsaOHVvm/UBklEQ5c3NzE999953ObdevXxd9+vQRAQEBQgghtFqt8PT0FPPmzROZmZni4sWL4oMPPhDjx48XQghx5swZ0apVKzF69Ghx+fJlceTIEdG2bVvxzTffCCGESExMFPb29iIuLk6kpaWJDz/8UCgUCrFr1y4hhBBffvml6NSpk0hISBDp6ekiKChIdOnSReTl5QkhhFAoFMLT01OcP39enDp1SrRq1Up06dJF/PDDD+LixYuiR48eYunSpVItCoVCFBYWvrTnUaNGiSFDhojk5GSRnJwsvL29xYQJE3R+ftasWSIzM1NkZWWJo0ePik6dOokjR46I69evizVr1ghHR0eRm5srNBqNcHFxEV9++aV03zZt2ojExEShVCrF9OnTxdSpU8X9+/dFfn6+UCgU4ocffnit/RIcHCyGDh0qLl26JK5fvy7mzp0rOnToIAoKCsS9e/dE69atRUxMjMjOzhY7d+4ULVq0EOnp6aWuK35eT548KR4/fizCw8OFr6+vuHPnjtBoNDrb37p1q/D09BSnTp0S6enpIiQkRLi6uoonT55Ij9O/f3+RkZEh0tLSXtkbkTGrkL/vQ0NDsWTJEgCARqNB1apV4e7ujuDgYABAfn4+fH19MWLECFhaWgIAvL29dY6YNRoNgoODpQ8zu3XrhgsXLgAAYmNj0a9fPwwePBgAsHjxYri6uha/KWHbtm2YPn063N3dAQBhYWHo1asX9uzZg5EjRwIARo8eDUdHRwBFR3bNmjWDl5cXAMDd3R3Xrl3T6alDhw46y507d8bq1atx5coV/Pzzzzh48KA0FLB8+XL06dNH+ssBAMaPH49GjRoBAGbPno2JEyfCw8MDADB58mScOnUKsbGxGDlyJB4+fAhbW1s0aNAADRo0wJYtW9CwYUNYWlrCwsICGo0GtWvXRm5uLgC89nBTu3btMHr0aDRv3hwA4O/vj9jYWOTm5iIvLw+FhYWws7ND/fr1MWTIELz99tuoU6cOfv/995eue17NmjVRo0YNmJmZ6QyZFPvqq6/w2WefoVOnTgCAefPm4ccff8ShQ4ekfTp06FA0bdr0tfoiMkYVEtpTpkxB79698eTJE0RFRSEnJwczZsyQ/oSvUaMGRowYgT179uDixYu4du0aLl26BBsbG53HKQ45oGicXKPRACgaWnn//feldbVr10b9+vUBFJ1d8fDhQzg4OEjrq1atCnt7e2RkZEi3NWzYUPp/tWrV8Pbbb0vLFhYWUKvVOrXs2rULpqam0nL16tUBANeuXYOlpaXO2G3Tpk1hbW2NjIwMqefi+orrX7lyJb744gvpNrVajTfffBM2NjaYOHEiQkJCsHbtWri5uWHgwIEvDL/ix3706FGJdaUZPHgwEhISEBsbi2vXriE1NRVA0bBSy5Yt0b9/f0ycOBGNGjWCm5sbfHx8YG1tjVq1ar10XVmpVCrcvn0bM2fO1Plgt6CgQGeI5Pnni+ifrEJCu3bt2mjcuDEAYNWqVfD19cXHH3+M7777DlWrVoVKpYKvry+sra3h4eGB/v3749q1a9iwYYPO41StWlVnWTz3IZz40wdyxfetVq3aC2t69uwZnj17Ji3/+UPFP58Z8meNGjV64QeRxWP1L9qeVquVlp+v69mzZwgKCkLXrl11fqb47IrAwEB4e3vj6NGjOH78OPz8/LBo0SIMGTKkxLabN2+OlJQU9OnTp0QNYWFhUCgUGDp0qM7ts2fPxrlz5zBo0CAMHz4cdevWle5jYmKCFStWwN/fH8eOHcOxY8ewfft2rFu3Dl27di11XVkU74OVK1fi3Xff1Vn3/F8ML9uPRP80Ff5BpLm5ORYtWoQrV65g8+bNAICff/4Zt2/fRnR0NMaPH4/OnTsjJyenRBC/TLNmzaShEqDog7WsrCwARb/4devWRXJysrS+sLAQqampaNKkiR47K9K0aVOoVCqdo/j09HQolcqXbq9Jkya4ffs2GjduLP37+uuv8fPPP+Pu3btYuHAh6tevjwkTJmD79u3w8fHB999/D6AoVJ83aNAg7N69W/rgs1hGRgZiYmKkvwiKKZVK7N+/HytWrMD06dPRq1cv6UhdCIGMjAwsXboUrVu3xtSpUxEXF4f27dvjyJEjpa4rq1q1asHW1hZ3796Vem/QoAFWrlyJq1evlvlxiP4pDHL2SNu2beHr64u1a9ciNzcXNjY2yM/Px5EjR5CdnY3Y2Fh88803JYYkXmbkyJE4fPgwduzYgYyMDHz22WcoKCiQ1vv7+yMqKgpHjx5FRkYG5s+fj4KCAunccX1q2rQp3NzcEBQUhJSUFKSkpCAoKAjt2rVDy5YtX/gz48aNQ3R0NOLi4nDz5k1ERUVh165d0rBKQkICFi9ejMzMTKSkpODXX39F69atARQdjefk5Ejj2aNGjUL9+vXh5+eH//znP8jKysLhw4cxYcIEuLi4lDjdr1q1aqhevToOHz6M7OxsnDhxAqGhoQCKhmhq1aqFmJgYREZGIisrC2fOnMHVq1dhb29f6rrXMXbsWHzxxRdISEhAZmYmQkJCcOrUKY5hE72AwU40njFjBg4dOoSIiAisXLkSU6ZMQVhYGAoKCqBQKLBgwQLMmTMHOTk5r3ysDh06YOnSpfj8888RERGBDz74AAqFQlo/duxYKJVKLFiwAHl5eXB0dER0dHSJD8z0JTw8HGFhYRg7dixMTU3h7u6OOXPmvPT+ffv2xf379xEVFYU7d+6gadOmWL16tRTya9euxZIlSzB48GBUq1YNffv2xccffwyg6Mj60KFDGDhwIM6cOYNq1arhf//3f7FmzRqEhYXh7t27sLOzw4ABAzBp0qQSQzpVq1bFsmXLEBERgW+++QYNGjTAhx9+iMjISFy6dAmDBw9GZGQkVqxYgY0bN8La2hrDhw+Hr68vTExMXrrudQQEBCA/Px8hISF4/PgxWrZsiU2bNsHOzu41n3ki42ciyjoGQUREBscJo4iIZIShTUQkIwxtIiIZYWgTEclIhYf2w4cPMW3aNDg7O6Nnz56Ii4sr9f4HDhxA37594eTkhICAAGRmZkrrNBoNVq1aBVdXV7i4uGD+/PnIz8+X1hcWFmLp0qXo2LEjOnbsiAULFuicRpibm4uPPvoIjo6O6NGjB7755htp3Z/nAS/+V3wWiEqlQmhoKLp16wYXFxdMmTJFOu0OAG7evIkPP/wQHTp0QPfu3REeHq5zGmKxzMxMtG3bVvp2Z7GtW7fC09MTTk5OGDp0KM6dO1emvnfv3v3S+b6Lz8RJS0vDqFGj4OTkBC8vL+zdu1dn2xs2bICrqyscHBxKTN4EFE0bUDy51fjx43XO8Pnjjz8wY8YMuLi4wM3NDVu2bHnhflWr1ejXr580YRYRlVFFT3YyadIk4efnJ65cuSJiY2OFvb29OHv27Avve/LkSdGiRQvx9ddfi4yMDLF48WLRvXt3oVQqhRBCrFy5Uri4uIiEhARx5coV4efnJz766CPp5xctWiTc3NzEr7/+Ks6ePSvc3NzEypUrhRBCPHv2THh7ewt/f3+Rnp4u9u3bJ1q3bi1OnDghhBDi/v374s6dO9K/+Ph40bp1a3HhwgUhRNEkS/369RNnz54VV69eFQEBAcLHx0c8e/ZMFBQUiD59+oipU6eK9PR08dNPPwl3d3dp0qliOTk5wsvLq8QEVPHx8cLZ2Vl8//334saNG2L58uXCyclJ3L59+5V95+fn69R9+/Zt4e3tLaZOnSqEEKKgoEC4ubmJsLAwkZmZKWJjY0WrVq1EUlKSEEKI7777Tri4uIgff/xRXL9+XcyYMUN4enqKZ8+eCSGEOHLkiLC3txd79+4V6enpwt/fXwwbNkyqffjw4cLb21ukpKSI06dPC1dXV7Fly5YS+/bzzz8XCoVCfPnll2V63RBRkQoN7czMTKFQKMSNGzek24KDg0VgYOAL7z9p0iQxY8YMaVmr1YrevXuLb7/9VgghhJOTk/R/IYS4ffu2aN68ucjIyBCPHj3SCWEhhNi1a5c0s+B//vMf4eTkJB48eCCtnzdvnoiMjCxRx5MnT4Srq6tYvXq1EEIItVot2rZtKxITE3W2rVAoRHp6uvjll19E69atpTcXIYTYu3ev6Ny5s7R85MgR8d5774kBAwaUCO0xY8aI5cuX69Tg6ekptm/f/sq+/yw6Olp07NhRPHz4UAghRGpqqlAoFOLRo0fSfby9vcX69euFEEJs3rxZ7Ny5U1p3+fJloVAopDeMIUOGSG98Qghx7do14ebmJh48eCAuXLggFAqFTh379+8XXbp00anp8uXLokuXLqJ3794MbaLXVKHDI8nJyahbt640DwlQNMNcUlLSC++flZUlzbwHFH1lu3nz5khKSsIff/wBlUqls97Ozg61a9dGUlISzp49CwsLC3Tu3Fla7+Pjg6+++goAcObMGXTs2FFnUqrQ0FBMmTKlRB1bt26FiYkJAgICABR9vTsqKgrOzs46tQFFf/Y3bdoUGzZskGYsLF7//NDMf//7X8yYMQNz584tsb1PPvkEH3zwQYnbCwoKXtn385RKJaKiojBt2jRpEidra2uYmJhg586d0Gq1OH/+PK5duyZ9w3Ls2LHSnCZ5eXnYvn07mjVrhrp160KpVOLChQvS7IdA0Vfwjx07BhsbG2RlZcHa2lrnm4wtWrTA3bt3kZ2dDaBorpHg4GDMnDmzxIRgRPRqFRrad+/eRb169XRus7W1xe3bt194/xety8nJwYMHD1CrVi1UrVpVZxxZpVLh0aNHePDgAW7evIn69etj//796NevH9zc3BARESEF582bN/H2229LY8P9+vV74TUL1Wo1vv76a0yYMEGatMjc3BzdunXTCeWtW7fCxsYG7777LmrXrq3zZqHVarFt2za0a9dOui0kJOSFwQwAjo6OOrMOJiYm4saNG+jQocMr+35eTEwMzM3NdWZArF+/PmbMmIGVK1fC3t4ew4YNw7hx49ClS5cSP9u+fXvExcVh/vz5qFKlihS8jx49wsiRI9GlSxdMnTpVukBEnTp1oFQqda5F+fvvvwOAVNumTZvwxhtvSFOuEtHrqdDQzs/PLzELnrm5OQoLC184OVS/fv0QExODn3/+GRqNBrGxsUhNTUVhYSHMzMzg5eWFlStXIjs7G/n5+Vi8eDGAog8gVSoVsrOzsW3bNoSEhGDhwoU4dOgQli1bBqAo6Pbs2YO7d+9i9erVGDNmDEJDQ5GQkKBTQ/HETN7e3i/t69ChQ9i0aRNmz55dYiZCAFi6dCkuX76MwMDA13vCAFy/fh1BQUEYPHgwWrdu/cq+iwkhEBMTg1GjRunUpNFocOPGDQwZMgTfffcdwsLCsGXLFhw+fFhnu127dsXu3bsxZMgQTJ48GVlZWVIYL1y4EGPGjMHatWuRl5eHDz/8EFqtFg4ODnjzzTexcOFCKJVK5ObmIioqSqrt+vXr2LRpE0JCQl77eSCiIhUa2tWqVSsxCZRarYaFhUWJ2eoA4P3338eQIUPg7++PNm3a4IcffsDgwYOlC+jOnTsXderUgYeHB1xcXGBlZYUWLVrAysoKZmZmUCqVWLZsGdq3bw9XV1fMnj0bMTEx0Gq1MDU1Ra1atRAWFgZ7e3t88MEHeP/99/Htt9/q1PD999/Dy8urxOx4xQ4cOIDAwECMGzeuxFSpQggsWrQI27dvx4oVK9CsWbPXer7S0tLg5+eHpk2bSpM4varvYqmpqbh58yYGDRqk85h79uzBuXPnsGDBAqnvcePG4csvv9S5X/369dG6dWssWLAAdnZ2iI+Pl+YtGT9+PDw9PdG2bVusWLECly5dQnJyMszNzREZGYkLFy6gQ4cO6N+/v/ScWFpaYu7cuZg8eTIaNGjwWs8DEf2fCp0wys7ODvfu3dO57d69ey+c0B8omtM6ODgYgYGBUKlUqF27NqZPny5NiF+7dm1s2rQJjx8/RpUqVWBlZYVOnTqhfv36ePToEczMzHQunNCkSRNpXLhevXpSeD+//vTp09KyWq3GmTNnXnpaWmxsLObPn4+xY8di9uzZOuu0Wi3mzp2Lffv2YdWqVdJVacrqwoULGD9+PBQKBdatW6czn3RpfRdLTEyEg4NDiUmXLly4gHfffVdnvvDWrVtj06ZNAICTJ0+iQYMG0ucOJiYmaNq0KR48eCANbT0/Zm1rawtra2vcunULTk5OaN26NQ4dOoR79+6hVq1auHnzplTj2bNncenSJeliD0+fPsWFCxeQnJwsfdZARKWr0CNtR0dH5ObmSmOjAHD27Fmdq8o8b8uWLVi7di2qVauG2rVrIz8/X/oAESiavP/HH39ErVq1YGVlhaSkJCiVSjg5OcHR0REajUZnTuaMjAxYWlrCxsYGTk5OSEtL0xlSSE9P1wm+q1evoqCgQGcsutiRI0cwb948TJw4EUFBQSXWh4eHY9++fYiMjISnp+drPU9ZWVkYP348WrVqVeIDzVf1XSw5ObnEJdEAoF69ekhLS9O5LSMjQ3pzi4qKQnR0tLROo9HgypUreOedd/DWW2/Bzs4Oly5dktbfvXsXjx49kt4oR4wYgfv376NOnTowNzfHsWPH0KpVK9jZ2eHw4cPYs2cP4uPjER8fj5YtW2LYsGHS8A4RlUFFn67i7+8vRowYIS5fvix27twp7O3txblz54QQQmg0GnHnzh1RUFAghBAiISFBODs7i//+978iIyNDTJo0Sfj4+AitViuEEGLJkiVi0KBB4vLlyyIpKUl4eHiI8PBwaVuTJ08W3t7e4sKFC+KXX34Rbm5u0rnSeXl5onv37mL27Nni2rVrIj4+Xtjb24ujR49KP79r1y7h7u5eogeVSiU6duwoJk2apHNOdHHt58+fFwqFQqxfv77E+j970YWCAwICRI8ePcTNmzd1frb4FMJX9S1E0YV74+LiSmwvOztbODo6isWLF4vMzExx6NAh0b59exEbGyuEEOLAgQPC3t5e7N+/X6Snp4s5c+bonBu/efNm4eLiIo4fPy5+++034e/vL7y9vaV94u3tLWbOnCkyMzPFwYMHhYODg0hISHjha2HYsGE85Y/oNVV4aN+7d09MmjRJtGnTRri5uYn4+HhpXVZWllAoFOLMmTPSbRs2bBBdu3YVzs7OYvr06eLevXvSOpVKJYKCgkT79u1Fly5dxPLly4VGo5HW5+XliU8//VQ4OzsLFxcXsWTJEqFWq6X1GRkZYsyYMcLe3v6FV41fv3698PHxKdHDsWPHhEKheOG/kydPivDw8Jeu//NV3P8c2nl5eS/92eLzo1/VtxBCtGnTRhw/fvyF+yApKUkMHz5cODo6Ck9PT+mq9sW+/fZb4eHhIdq0aSNGjx4tXV39+eela9euwsHBQUyaNEnk5uZK665fvy78/PyEg4OD8PT0FHv27HlhDUIwtIn+Cs6nTUQkI5wwiohIRhjaREQywtAmIpIRhjYRkYwwtImIZKRcvxGZX/jq+8jZC755T0T0t1mUksw80iYikhGGNhGRjDC0iYhkhKFNRCQjDG0iIhlhaBMRyQhDm4hIRhjaREQywtAmIpIRhjYRkYwwtImIZIShTUQkIwxtIiIZKddZ/ipKYWEhFs4LRk7O71Cr1ZgwaTJ6uLkbuiy90Gq1WBy2EGlXr8Lc3BwLQhahUePGhi5Lb9ifvLG/imcUR9oH9u+FtY0NNm/djtXrNiJ8cZihS9KbY0cToC5QI3p7DKbPCMSKZeGGLkmv2J+8sb+KV+Yjba1WiypVKmfGe3r1Ri9PL2nZ1MzUgNXo1/lzZ9G5azcAQFsHR6SmXjRwRfrF/uSN/VW8UkM7KysLS5cuxcWLF2FmZgatVguFQoE5c+agSZMmFVXjK9WoYQkAUKmUmDljGj6e+olhC9IjlUqJmjWtpGXTKqbQaDQwMzOKkS32J3Psr+KVuuW5c+ciMDAQDg4O0m1JSUmYM2cOduzYUe7FvY7bt27h39M/xgfDRqBvvwGGLkdvLC2toFKppGWt0BrNLwTA/uSO/VW8Usc71Gq1TmADgKOjY3nW85fcv3cPkyf6Y/q/Z2Gwj6+hy9ErJydnnEhMBACkJCehWTOFgSvSL/Ynb+yv4pkIIcTLVi5YsABqtRrdunVDzZo1oVKp8OOPP8Lc3BwhISGvfPCKukZkxNJFOPzD9/hXk6bSbavXbYSFhUW5brcirhFZ/On1b2lpEEIgdNESNGn6TvlvuIKwP3ljf+WjtGtElhraQggkJCTg7NmzUCqVsLKygrOzM3r16gWTMiQWL+xLRPT6/nJo/10MbSKi18ersRMRGQmGNhGRjDC0iYhkhKFNRCQjDG0iIhlhaBMRyQhDm4hIRhjaREQywtAmIpIRhjYRkYwwtImIZIShTUQkIwxtIiIZYWgTEclIuV43h1OXEhHpF4+0iYhkhKFNRCQjDG0iIhlhaBMRyQhDm4hIRhjaREQywtAmIpIRhjYRkYwwtImIZIShTUQkIwxtIiIZYWgTEcmIUYS2VqtFWMh8+I0YioCxfriZmWnokvQuJSUZAWP9DF2G3hn7vmN/8lYZ+zOK0D52NAHqAjWit8dg+oxArFgWbuiS9Grzpo0Imf8ZCgoKDF2K3hn7vmN/8lYZ+zOK0D5/7iw6d+0GAGjr4IjU1IsGrki/GjZshJVfRBq6jHJh7PuO/clbZezPKEJbpVKiZk0radm0iik0Go0BK9IvD08vmJmV69TnBmPs+479yVtl7M8oQtvS0goqlUpa1gqt0YacsTH2fcf+5K0y9mcUoe3k5IwTiYkAgJTkJDRrpjBwRVRWxr7v2J+8Vcb+Sn3L8PPzQ2Fhoc5tQgiYmJhgx44d5VrY6+jp0QunT5/E6JHDIIRA6KIlhi6JysjY9x37k7fK2J+JEEK8bGVycjI+++wzrF69Gqampjrr6tev/8oHf2o8Q1tERBXGopTD6VJDGwC++uorNG7cGL169XrtDTO0iYhe398K7b+DoU1E9PpKC22j+CCSiOifgqFNRCQjDG0iIhlhaBMRyQhDm4hIRhjaREQywtAmIpIRhjYRkYwwtImIZIShTUQkIwxtIiIZYWgTEckIQ5uISEaM57pApHcPVYWvvpOMWdeoaugSyo2JiaEroPLCI20iIhlhaBMRyQhDm4hIRhjaREQywtAmIpIRhjYRkYwwtImIZIShTUQkIwxtIiIZYWgTEckIQ5uISEYY2kREMmIUE0ZptVosDluItKtXYW5ujgUhi9CocWNDl6UXxtibRlOI8LB5uJ2Tg8JCNUb7T0K9N9/CyvBQmJqaokGjxpg9NxRVqsj/mKKwsBAL5wUjJ+d3qNVqTJg0GT3c3A1dlt4Y4+vzeZWxP/n/VgA4djQB6gI1orfHYPqMQKxYFm7okvTGGHs7/P1+WFvbIGrjVvzP5+vw+bLF2LJxDcYEfIiojdEoVBfi9MlEQ5epFwf274W1jQ02b92O1es2InxxmKFL0itjfH0+rzL2ZxRH2ufPnUXnrt0AAG0dHJGaetHAFemPMfbWw90LPXp6SsumpmZo1rwlHj9+BCEEnjxRwczMKF6a8PTqjV6eXtKyqZmpAavRP2N8fT6vMvb32r8ZarUa5ubm5VHLX6ZSKVGzppW0bFrFFBqNxih+8Y2xtxo1agAAnqhUmD9nBgI+nAoTExN8vmwRor/eAEsrKzg6dzBwlfpRo4YlgKL9OHPGNHw89RPDFqRnxvj6fF5l7O+lwyPHjh2Dm5sbevXqhYMHD0q3jx8/vkIKex2WllZQqVTSslZojeZFY6y93cm9hU8mj4NnnwHo1bsfIleGI3L9VkTH7oNX34FY88UyQ5eoN7dv3cKEcaPRf8Ag9O03wNDl6JWxvj6LVcb+Xhra69atQ1xcHL777jvs2LEDcXFxAAAhRIUVV1ZOTs44kVg0BpqSnIRmzRQGrkh/jLG3P+7fQ+DUiZg05d/oN9AHAFCrljUsrYqOSm3r1EXe48eGLFFv7t+7h8kT/TH937Mw2MfX0OXonTG+Pp9XGft76VtG1apVYWNjAwBYs2YNxowZg7feegsmlfA6Rj09euH06ZMYPXIYhBAIXbTE0CXpjTH2tm3LRigfP8bWr9dh69frAAAzgxciZO4smJqawayqGWYFhxi4Sv34auM6PH78GBvWrcGGdWsAAKvXbYSFhYWBK9MPY3x9Pq8y9mciXnLoPHv2bLzxxhuYPn06atSogVu3biEgIACPHz/GiRMnyvTgTzV6rZUqGK8RKV+V8NiKXoNFKSMwLx0eWbJkCZo3by4dWb/11lvYunUr+vTpo/cCiYiobF56pK0PPNKWNx5pyxePtOXtLx1pExFR5cPQJiKSEYY2EZGMMLSJiGSEoU1EJCMMbSIiGWFoExHJCEObiEhGGNpERDLC0CYikhGGNhGRjDC0iYhkhKFNRCQjnOWP/rEWJ/xm6BLKzVyPZoYugf4GzvJHRGQkGNpERDLC0CYikhGGNhGRjDC0iYhkhKFNRCQjDG0iIhlhaBMRyQhDm4hIRhjaREQywtAmIpIRhjYRkYwwtImIZKSUuaTkQ6vVYnHYQqRdvQpzc3MsCFmERo0bG7osvTDm3gDj6+/+jatI2bcZblPD8SArHSc2hsKq7tsAgHe69EUj5+44t2s97l+7BDOL6gCALuPnwby6pSHL/suMbf/9WWXszyhC+9jRBKgL1IjeHoOU5CSsWBaOL6LWGrosvTDm3gDj6u/K0Z3I/OU4TM0tAAAPsjOg6DEYzXv66NzvYVYGuk8ORTUra0OUqVfGtP9epDL291qh/fTpU1SpUgXm5ublVc9fcv7cWXTu2g0A0NbBEampFw1ckf4Yc2+AcfVnZfsWOvsH46dtKwEAD7LSkXfnd/x+8SfUrPM2HH0mwMzcAnl3c/BrTBSe5j1Ek/d6oel7ngau/K8zpv33IpWxv1LHtLOysvDRRx9h/vz5OHXqFPr27Yu+ffvi+PHjFVVfmahUStSsaSUtm1YxhUZjHFdgMObeAOPqr4FjF1Qx/b/joNqNFGg7yB89p0XAss6bSP3hW2jUT9Gse3909AtE9w9DkHHiIB7+ft2AVf89xrT/XqQy9ldqaAcHB2Ps2LFwcnLCtGnTEBsbi/j4eKxfv76i6isTS0srqFQqaVkrtDAzM4qRH6PuDTDu/uq37YTaDd+V/v8wOwOm5tXQzHUgzMwtUNWiBuo1a4uHOfINbWPef0Dl7K/U0NZoNHBxcYG3tzc8PDxga2sLKysrgxf9Z05OzjiRmAgASElOQrNmCgNXpD/G3Btg3P0lrpuP+5lXAQB30pLxRsN3obyTg2NfzIZW+wzaZxrcu3YJbzR4x8CV/nXGvP+AytlfqenbpEkTzJ07F2FhYQgPDwcAbNiwAXXq1KmQ4sqqp0cvnD59EqNHDoMQAqGLlhi6JL0x5t4A4+6v3fsf4dzOdahiZgaLmm+g/bCpqGpRA43b98DRlTNRxdQUjTv0hPVb8j3bwpj3H1A5+yv1wr5arRbHjh2Dh4eHdNuePXvg6emJ6tWrv/LBeWFfqsx4YV+qrEq7sG+pR9pVqlTRCWwAGDRokF6KIiKi18dvRBIRyQhDm4hIRhjaREQywtAmIpIRhjYRkYwwtImIZIShTUQkIwxtIiIZYWgTEckIQ5uISEYY2kREMsLQJiKSEYY2EZGMlDo169/FqVmJDOONDlMMXUK5evBLlKFLKFelTc3KI20iIhlhaBMRyQhDm4hIRhjaREQywtAmIpIRhjYRkYwwtImIZIShTUQkIwxtIiIZYWgTEckIQ5uISEYY2kREMsLQJiKSkVLmkpIPrVaLxWELkXb1KszNzbEgZBEaNW5s6LL0wph7A9ifXFSpYoI180ZA8a96eKYVmLhgG6qZm2H1Z8NhYgKkpP2Of0fEQqsV+MTPHe/3bgchBP5n0yHsPZ5i6PL/ssq4/4ziSPvY0QSoC9SI3h6D6TMCsWJZuKFL0htj7g1gf3LRr3sbAEDPcasQuuYAIgJ9EDplAOZH7UXPcatQw8Ic/V3bwNqqOj4a7ooeY1ag/+QoLJvla+DK/57KuP/KfKR9//592Nralmctf9n5c2fRuWs3AEBbB0ekpl40cEX6Y8y9AexPLvb9JwUH/1tUe6O3a+PO/TxMW7IDWq1AVTNT2NnWwp0/8qB6WoCbt/6AZXVzWFavBq1Wa+DK/57KuP9eGtrXr1/XWQ4KCkJERAQAoEmTJuVb1WtSqZSoWdNKWjatYgqNRgMzM/mP/hhzbwD7k5Nnz7TYGOqHgW5tMWLWJmi1Ao3eegMH1k3FI+VTpN24AwDIzn2Ic7s+g6lpFSz/+rCBq/57KuP+e+mWx40bBwsLC9SrVw9CCFy/fh3z58+HiYkJtm7dWpE1vpKlpRVUKpW0rBVaWf5SvIgx9wawP7mZMD8an9nWRGL0LDj5LMLNWw/QZlAoxnp3QkSgD+KPJuHNOrXQsv8CAMC+NR/jdNI1/JqaaeDK/5rKuP9eOqa9a9cuvPvuu5g0aRKio6PRokULREdHV7rABgAnJ2ecSEwEAKQkJ6FZM4WBK9IfY+4NYH9yMbxfB8z09wQAPHlaCK1Wi5iVE/BOo7oAAKWqAFqtwMPHT5BfUIgCtQYFag0e5uXDumZ1Q5b+t1TG/VfqNSI1Gg0iIiJga2uLkydPIjo6+rUevKKuEVn8Ce9vaWkQQiB00RI0afpOxWy8nBlzbwD7Ky/6vkZkDQtzbAgZBbs6tVDVzBTLNx/GvQdKLPlkMNSFz/DkqRofhW7H7XuP8dmHfeHZuRW0QuDU+QwEfx6v11qAirtGpKH2X2nXiCzThX13796N3bt3Y9u2ba+1YV7Yl8gweGFfefvbof1XMbSJDIOhLW+8GjsRkZFgaBMRyQhDm4hIRhjaREQywtAmIpIRhjYRkYwwtImIZIShTUQkIwxtIiIZYWgTEckIQ5uISEYY2kREMsLQJiKSEYY2EZGMcGpWIpKd1OzHhi6hXLX7V62XruORNhGRjDC0iYhkhKFNRCQjDG0iIhlhaBMRyQhDm4hIRhjaREQywtAmIpIRhjYRkYwwtImIZIShTUQkIwxtIiIZMTN0Afqg1WqxOGwh0q5ehbm5ORaELEKjxo0NXZZeGHNvAPuTO2Ps78fD+5B4ZD8AoFCtRmZGGhau2oTlC/6NN+s3BAB49BuCTj08DVKfUYT2saMJUBeoEb09BinJSVixLBxfRK01dFl6Ycy9AexP7oyxP1fPAXD1HAAA2BwVAVevAbiRfgV9fUagn+8oA1dnJMMj58+dReeu3QAAbR0ckZp60cAV6Y8x9wawP7kz5v6upV1CduY1uPf1wbXfruD8zycRGjgRG1aGIf+JymB1lTm0tVotcnNzodVqy7Oev0SlUqJmTStp2bSKKTQa45jM25h7A9if3Blzf3t2bIbPyAkAgHeat8KICdMwf8UG1HuzPnZv22iwukoN7eDgYABAcnIyvLy8MGXKFPTv3x9JSUkVUVuZWVpaQaX6v3c+rdDCzMwoRn6MujeA/cmdsfanUuYhJysTrR3bAwA6dHFD02YtAQDtu/TAjYyrBqut1NDOzs4GAKxatQobN25EbGwsNm/ejOXLl1dIcWXl5OSME4mJAICU5CQ0a6YwcEX6Y8y9AexP7oy1vysXzsHeyUVaDg+eivQrqQCA1KRf0OT/B7ghlOkt0dTUFP/6178AAHZ2dpVuiKSnRy+cPn0So0cOgxACoYuWGLokvTHm3gD2J3fG2l9O9k3Ue/Ntadl/6qfYsvp/YFa1KqzfsMX46cEGq63Ua0R6e3vDxMQET548QUBAAAYOHIjw8HDk5eWV6Wib14gkovLwT75GZKlH2nFxcVCr1bhy5QosLCxgYmIChUIBX19fvRdJRESvxquxE5Hs/JOPtI3iPG0ion8KhjYRkYwwtImIZIShTUQkIwxtIiIZYWgTEckIQ5uISEYY2kREMsLQJiKSEYY2EZGMMLSJiGSEoU1EJCMMbSIiGSnXWf6IiEi/eKRNRCQjDG0iIhlhaBMRyQhDm4hIRhjaREQywtAmIpIRowhtrVaL+fPnY+jQofDz80NmZqahS9K75ORk+Pn5GboMvSssLMSsWbMwYsQI+Pr64ujRo4YuSa+ePXuGOXPmYNiwYRg5ciRu3rxp6JLKxf379+Hq6oqMjAxDl6J3gwcPhp+fH/z8/DBnzhxDlwMzQxegDwkJCVCr1YiJiUFSUhLCw8Oxdu1aQ5elNxs3bsTevXtRvXp1Q5eid3v37oWNjQ2WLVuGBw8ewNvbG+7u7oYuS2+OHz8OANixYwd++uknLF261Khem0DRG+/8+fNhYWFh6FL0rqCgAAAQHR1t4Er+j1EcaZ89exbdunUDADg6OuLixYsGrki/GjVqhMjISEOXUS569+6N6dOnS8umpqYGrEb/PDw8EBYWBgDIyclBnTp1DFyR/kVERGDYsGGoV6+eoUvRuytXriA/Px/+/v4YPXo0kpKSDF2ScYS2UqmElZWVtGxqagqNRmPAivTLy8sLZmZG8UdRCZaWlrCysoJSqcS0adPwySefGLokvTMzM0NQUBDCwsLg5eVl6HL0avfu3ahdu7Z00GRsLCwsEBAQgE2bNiEkJAQzZ840eLYYRWhbWVlBpVJJy1qt1mhDzhjdunULo0ePxqBBgzBgwABDl1MuIiIicOjQIcybNw9PnjwxdDl6s2vXLpw6dQp+fn64fPkygoKCcPfuXUOXpTdNmjTBwIEDYWJigiZNmsDGxsbg/RlFaDs7OyMxMREAkJSUBIVCYeCKqKzu3bsHf39/zJo1C76+voYuR+/i4+Oxfv16AED16tVhYmJiVENA33zzDbZt24bo6Gi0bNkSERERqFu3rqHL0pudO3ciPDwcAJCbmwulUmnw/ozicLRXr144efIkhg0bBiEElixZYuiSqIzWrVuHx48fY82aNVizZg2Aog9ejeVDLU9PT8yZMwcjR46ERqNBcHAwqlWrZuiyqIx8fX0xZ84cDB8+HCYmJliyZInB/4rnLH9ERDJiFMMjRET/FAxtIiIZYWgTEckIQ5uISEYY2kREMsLQJiKSEYY2EZGMMLSJiGTk/wEhMO6BhhCuYQAAAABJRU5ErkJggg==\n",
      "text/plain": [
       "<Figure size 432x288 with 1 Axes>"
      ]
     },
     "metadata": {},
     "output_type": "display_data"
    },
    {
     "data": {
      "image/png": "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\n",
      "text/plain": [
       "<Figure size 432x288 with 1 Axes>"
      ]
     },
     "metadata": {},
     "output_type": "display_data"
    }
   ],
   "source": [
    "y_pred=gnb(X_train, y_train,X_test,0)\n",
    "title=\"Naive/GaussianNB\"\n",
    "confisionMatrix(y_test, y_pred,title)\n",
    "\n",
    "y_pred=knn(X_train, y_train,X_test,0)\n",
    "title=\"KNeighborsClassifier\"\n",
    "confisionMatrix(y_test, y_pred,title)\n",
    "\n",
    "y_pred=svm(X_train, y_train,X_test,0);\n",
    "title=\"LinearSVC\"\n",
    "confisionMatrix(y_test, y_pred,title)\n",
    "\n",
    "y_pred=rfc(X_train, y_train,X_test,0)\n",
    "title=\"RandomForestClassifier\"\n",
    "confisionMatrix(y_test, y_pred,title)\n",
    "\n",
    "y_pred=dtc(X_train, y_train,X_test,0)\n",
    "title=\"DecisionTreeClassifier\"\n",
    "confisionMatrix(y_test, y_pred,title)"
   ]
  },
  {
   "cell_type": "markdown",
   "id": "eb795d7f",
   "metadata": {},
   "source": [
    "#### Testi"
   ]
  },
  {
   "cell_type": "code",
   "execution_count": 28,
   "id": "f08da076",
   "metadata": {
    "scrolled": false
   },
   "outputs": [
    {
     "name": "stdout",
     "output_type": "stream",
     "text": [
      "     Average Speed  Average Watts  Moving Time  Distance  Grade\n",
      "656      26.239204     285.286987       3821.0     27.85      4\n",
      "\n",
      "Testi 1\n"
     ]
    },
    {
     "data": {
      "text/html": [
       "<div>\n",
       "<style scoped>\n",
       "    .dataframe tbody tr th:only-of-type {\n",
       "        vertical-align: middle;\n",
       "    }\n",
       "\n",
       "    .dataframe tbody tr th {\n",
       "        vertical-align: top;\n",
       "    }\n",
       "\n",
       "    .dataframe thead th {\n",
       "        text-align: right;\n",
       "    }\n",
       "</style>\n",
       "<table border=\"1\" class=\"dataframe\">\n",
       "  <thead>\n",
       "    <tr style=\"text-align: right;\">\n",
       "      <th></th>\n",
       "      <th>Average Speed</th>\n",
       "      <th>Average Watts</th>\n",
       "      <th>Moving Time</th>\n",
       "      <th>Distance</th>\n",
       "    </tr>\n",
       "  </thead>\n",
       "  <tbody>\n",
       "    <tr>\n",
       "      <th>656</th>\n",
       "      <td>26.239204</td>\n",
       "      <td>285.286987</td>\n",
       "      <td>3821.0</td>\n",
       "      <td>27.85</td>\n",
       "    </tr>\n",
       "  </tbody>\n",
       "</table>\n",
       "</div>"
      ],
      "text/plain": [
       "     Average Speed  Average Watts  Moving Time  Distance\n",
       "656      26.239204     285.286987       3821.0     27.85"
      ]
     },
     "metadata": {},
     "output_type": "display_data"
    },
    {
     "name": "stdout",
     "output_type": "stream",
     "text": [
      "\n",
      "DecisionTreeClassifier -> luokka: 4 ennustettu: 4\n",
      "LinearSVC -> luokka: 4 ennustettu: 4\n",
      "knn -> luokka: 4 ennustettu: 4\n",
      "GaussianNB -> luokka: 4 ennustettu: 4\n",
      "RandomForestClassifier -> luokka: 4 ennustettu: 4\n",
      "\n",
      "Testi 2\n"
     ]
    },
    {
     "data": {
      "text/html": [
       "<div>\n",
       "<style scoped>\n",
       "    .dataframe tbody tr th:only-of-type {\n",
       "        vertical-align: middle;\n",
       "    }\n",
       "\n",
       "    .dataframe tbody tr th {\n",
       "        vertical-align: top;\n",
       "    }\n",
       "\n",
       "    .dataframe thead th {\n",
       "        text-align: right;\n",
       "    }\n",
       "</style>\n",
       "<table border=\"1\" class=\"dataframe\">\n",
       "  <thead>\n",
       "    <tr style=\"text-align: right;\">\n",
       "      <th></th>\n",
       "      <th>Average Speed</th>\n",
       "      <th>Average Watts</th>\n",
       "      <th>Moving Time</th>\n",
       "      <th>Distance</th>\n",
       "    </tr>\n",
       "  </thead>\n",
       "  <tbody>\n",
       "    <tr>\n",
       "      <th>656</th>\n",
       "      <td>26.322786</td>\n",
       "      <td>285.286987</td>\n",
       "      <td>3821.0</td>\n",
       "      <td>55</td>\n",
       "    </tr>\n",
       "  </tbody>\n",
       "</table>\n",
       "</div>"
      ],
      "text/plain": [
       "     Average Speed  Average Watts  Moving Time  Distance\n",
       "656      26.322786     285.286987       3821.0        55"
      ]
     },
     "metadata": {},
     "output_type": "display_data"
    },
    {
     "name": "stdout",
     "output_type": "stream",
     "text": [
      "\n",
      "DecisionTreeClassifier -> ennustettu: 4\n",
      "LinearSVC -> ennustettu: 2\n",
      "knn -> ennustettu: 4\n",
      "GaussianNB -> ennustettu: 4\n",
      "RandomForestClassifier -> ennustettu: 4\n",
      "----------------\n",
      "\n",
      "Testi 3\n"
     ]
    },
    {
     "data": {
      "text/html": [
       "<div>\n",
       "<style scoped>\n",
       "    .dataframe tbody tr th:only-of-type {\n",
       "        vertical-align: middle;\n",
       "    }\n",
       "\n",
       "    .dataframe tbody tr th {\n",
       "        vertical-align: top;\n",
       "    }\n",
       "\n",
       "    .dataframe thead th {\n",
       "        text-align: right;\n",
       "    }\n",
       "</style>\n",
       "<table border=\"1\" class=\"dataframe\">\n",
       "  <thead>\n",
       "    <tr style=\"text-align: right;\">\n",
       "      <th></th>\n",
       "      <th>Average Speed</th>\n",
       "      <th>Average Watts</th>\n",
       "      <th>Moving Time</th>\n",
       "      <th>Distance</th>\n",
       "    </tr>\n",
       "  </thead>\n",
       "  <tbody>\n",
       "    <tr>\n",
       "      <th>656</th>\n",
       "      <td>15.812171</td>\n",
       "      <td>100</td>\n",
       "      <td>3821.0</td>\n",
       "      <td>55</td>\n",
       "    </tr>\n",
       "  </tbody>\n",
       "</table>\n",
       "</div>"
      ],
      "text/plain": [
       "     Average Speed  Average Watts  Moving Time  Distance\n",
       "656      15.812171            100       3821.0        55"
      ]
     },
     "metadata": {},
     "output_type": "display_data"
    },
    {
     "name": "stdout",
     "output_type": "stream",
     "text": [
      "\n",
      "DecisionTreeClassifier -> ennustettu: 2\n",
      "LinearSVC -> ennustettu: 2\n",
      "knn -> ennustettu: 2\n",
      "GaussianNB -> ennustettu: 3\n",
      "RandomForestClassifier -> ennustettu: 2\n"
     ]
    }
   ],
   "source": [
    "def test(luokka,item,nbr):    \n",
    "    print()\n",
    "    print(f'Testi {nbr}')\n",
    "    display(item)      \n",
    "    item=ss.transform(item)\n",
    "    print()\n",
    "    y_pred=dtc(X_train, y_train,item,0)[0]\n",
    "    if luokka!=\"\":\n",
    "        print(f'DecisionTreeClassifier -> luokka: {luokka} ennustettu: {y_pred}')\n",
    "    else:\n",
    "        print(f'DecisionTreeClassifier -> ennustettu: {y_pred}')\n",
    "    y_pred=svm(X_train, y_train,item,0)[0]\n",
    "    if luokka!=\"\":\n",
    "        print(f'LinearSVC -> luokka: {luokka} ennustettu: {y_pred}')\n",
    "    else:\n",
    "        print(f'LinearSVC -> ennustettu: {y_pred}')\n",
    "    \n",
    "    y_pred=knn(X_train, y_train,item,0)[0]\n",
    "    if luokka!=\"\":\n",
    "        print(f'knn -> luokka: {luokka} ennustettu: {y_pred}')\n",
    "    else:\n",
    "        print(f'knn -> ennustettu: {y_pred}')\n",
    "        \n",
    "    y_pred=gnb(X_train, y_train,item,0)[0]\n",
    "    \n",
    "    if luokka!=\"\":\n",
    "        print(f'GaussianNB -> luokka: {luokka} ennustettu: {y_pred}')\n",
    "    else:\n",
    "        print(f'GaussianNB -> ennustettu: {y_pred}')\n",
    "        \n",
    "    y_pred=rfc(X_train, y_train,item,0)[0]\n",
    "    if luokka!=\"\":\n",
    "        print(f'RandomForestClassifier -> luokka: {luokka} ennustettu: {y_pred}')\n",
    "    else:\n",
    "        print(f'RandomForestClassifier -> ennustettu: {y_pred}')\n",
    "\n",
    "\n",
    "item=df3.loc[656:656]\n",
    "print(item)\n",
    "\n",
    "luokka=item['Grade'].values[0]\n",
    "item.drop(['Grade'], axis=1,inplace=True)\n",
    "test(luokka,item,1)\n",
    "\n",
    "# Muokataan hieman dataa ja katsotaan tulos\n",
    "#    km/h  Moving Time  Distance  Average Watts\n",
    "# 22.819998      17522.0    111.07     262.348999\n",
    "\n",
    "item['Distance']=55\n",
    "item['Average Speed']=55/(7522/3600)\n",
    "# Average Watts teho pidetään samana \n",
    "\n",
    "test(\"\",item,2)\n",
    "\n",
    "print(\"----------------\")\n",
    "item['Distance']=55\n",
    "item['Average Speed']=55/(12522/3600)\n",
    "item['Average Watts']=100\n",
    "\n",
    "test(\"\",item,3)\n"
   ]
  },
  {
   "cell_type": "markdown",
   "id": "0a1f9113",
   "metadata": {},
   "source": [
    "```\n",
    "Testi 1: kaikki menetelmät palauttivat oikein\n",
    "Testi 2: LinearSVC ennusti poikkeavasti\n",
    "Testi 3: GaussianNB ennusti poikkeavasti\n",
    "```"
   ]
  },
  {
   "cell_type": "markdown",
   "id": "f9b42fae",
   "metadata": {},
   "source": [
    "## Syväoppiminen"
   ]
  },
  {
   "cell_type": "markdown",
   "id": "e8086f5f",
   "metadata": {},
   "source": [
    "Muodostetaan yksinkertainen neuroverkko Keras Sequential API:lla \n",
    "\n",
    "**sisäänmeno**\\\n",
    "Sisäänmeno 4 units, koska X_train aineisto sisältää 4 (features) eri muuttujaa \\\n",
    "'Average Speed', 'Average Watts', 'Moving Time', 'Distance'\\\n",
    "**ulostulo**\\\n",
    "Koska aktiviteettien luokitus on tehty kouluarvosanoin 0-5 \\\n",
    "pitää ulostulossa olla 6 units eli 6 eri vaihtoehtoista arvoa 0-5 \\\n",
    "**aktivointifunktio**\\\n",
    "Activation pitää olla softmax, jota käytetään moniluokkaluokituksen yhteydessä, \\\n",
    "muut aktivointifunktiot eivät toimi tässä tapauksessa. \\\n",
    "**häviöfunktio**\\\n",
    "loss pitää olla \"sparse_categorical_crossentropy\" em. syystä. \\\n",
    "**optimisaattori**\\\n",
    "optimizer joko Adam tai RMSProp, ei merkittävää eroa näiden välillä."
   ]
  },
  {
   "cell_type": "code",
   "execution_count": 29,
   "id": "7971677d",
   "metadata": {
    "scrolled": false
   },
   "outputs": [
    {
     "name": "stdout",
     "output_type": "stream",
     "text": [
      "19/19 [==============================] - 0s 1ms/step - loss: 0.2154 - accuracy: 0.9101\n",
      "Test Loss:0.21544872224330902 Test Accuracy:91.01497530937195%\n"
     ]
    },
    {
     "data": {
      "image/png": "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\n",
      "text/plain": [
       "<Figure size 432x288 with 1 Axes>"
      ]
     },
     "metadata": {},
     "output_type": "display_data"
    },
    {
     "data": {
      "image/png": "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\n",
      "text/plain": [
       "<Figure size 432x288 with 1 Axes>"
      ]
     },
     "metadata": {},
     "output_type": "display_data"
    },
    {
     "data": {
      "image/png": "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\n",
      "text/plain": [
       "<Figure size 432x288 with 1 Axes>"
      ]
     },
     "metadata": {},
     "output_type": "display_data"
    }
   ],
   "source": [
    "import tensorflow as tf\n",
    "from sklearn.preprocessing import MinMaxScaler\n",
    "from sklearn.model_selection import train_test_split\n",
    "from tensorflow.keras.layers import Dense\n",
    "\n",
    "X_train, X_test, y_train, y_test = train_test_split(X, y,test_size=0.25)\n",
    "\n",
    "scaler = MinMaxScaler().fit(X_train)\n",
    "X_train = scaler.transform(X_train)\n",
    "X_test = scaler.transform(X_test)\n",
    "\n",
    "\n",
    "def ks(X_train, y_train,X_test,epochs,p):\n",
    "    \n",
    "    def history_accuracy(history):\n",
    "        sns.set_style('dark')\n",
    "        plt.figure()\n",
    "        plt.plot(history.history['accuracy'])\n",
    "        plt.title('model accuracy')\n",
    "        plt.ylabel('accuracy')\n",
    "        plt.xlabel('epoch')\n",
    "        plt.legend(['train', 'test'], loc='upper left')\n",
    "        plt.show()\n",
    "\n",
    "    \n",
    "    \n",
    "    def history_loss(history):\n",
    "        sns.set_style('dark')\n",
    "        plt.figure()\n",
    "        plt.plot(history.history['loss'])\n",
    "        plt.title('model loss')\n",
    "        plt.ylabel('loss')\n",
    "        plt.xlabel('epoch')\n",
    "        plt.legend(['train', 'test'], loc='upper left')\n",
    "        plt.show()\n",
    "    \n",
    "    model = tf.keras.Sequential([\n",
    "        Dense(4, activation='relu'),    \n",
    "        Dense(6,activation='relu'),        \n",
    "        Dense(6,activation='softmax')\n",
    "    ])\n",
    "\n",
    "    model.compile(loss=\"sparse_categorical_crossentropy\",\n",
    "                  optimizer='adam',\n",
    "                  #optimizer='RMSProp',\n",
    "                  metrics=['accuracy']\n",
    "                  )\n",
    "\n",
    "    history=model.fit(X_train,y_train,epochs=epochs,verbose=0)\n",
    "\n",
    "    if p==1:\n",
    "        results = model.evaluate(X_test, y_test, verbose=1)\n",
    "        print(f\"Test Loss:{results[0]} Test Accuracy:{results[1]*100}%\")\n",
    "\n",
    "    \n",
    "    predict=model.predict(X_test) \n",
    "    y_pred=np.argmax(predict,axis=1)\n",
    "    \n",
    "    if p==1:\n",
    "        title=\"Keras Sequential\"\n",
    "        history_accuracy(history)\n",
    "        history_loss(history)\n",
    "        confisionMatrix(y_test, y_pred,title)\n",
    "    else:\n",
    "        return y_pred\n",
    "        \n",
    "ks(X_train, y_train,X_test,200,1)\n"
   ]
  },
  {
   "cell_type": "markdown",
   "id": "32654a98",
   "metadata": {},
   "source": [
    "Kuten kaaviosta voidaan nähdä niin vähintään 100 epoch-koulutuskierrosta vaaditaan tyydyttävään/kohtuulliseen tulokseen."
   ]
  },
  {
   "cell_type": "markdown",
   "id": "557ee458",
   "metadata": {},
   "source": [
    "## Tulosten analysointi"
   ]
  },
  {
   "cell_type": "markdown",
   "id": "19f4804a",
   "metadata": {},
   "source": [
    "#### Menetelmien vertailua"
   ]
  },
  {
   "cell_type": "code",
   "execution_count": 30,
   "id": "e4ba893a",
   "metadata": {},
   "outputs": [
    {
     "data": {
      "text/html": [
       "<div>\n",
       "<style scoped>\n",
       "    .dataframe tbody tr th:only-of-type {\n",
       "        vertical-align: middle;\n",
       "    }\n",
       "\n",
       "    .dataframe tbody tr th {\n",
       "        vertical-align: top;\n",
       "    }\n",
       "\n",
       "    .dataframe thead th {\n",
       "        text-align: right;\n",
       "    }\n",
       "</style>\n",
       "<table border=\"1\" class=\"dataframe\">\n",
       "  <thead>\n",
       "    <tr style=\"text-align: right;\">\n",
       "      <th></th>\n",
       "      <th>Method</th>\n",
       "      <th>Accuracy</th>\n",
       "    </tr>\n",
       "  </thead>\n",
       "  <tbody>\n",
       "    <tr>\n",
       "      <th>0</th>\n",
       "      <td>Keras Sequential</td>\n",
       "      <td>0.931780</td>\n",
       "    </tr>\n",
       "    <tr>\n",
       "      <th>1</th>\n",
       "      <td>Naive/GaussianNB</td>\n",
       "      <td>0.901830</td>\n",
       "    </tr>\n",
       "    <tr>\n",
       "      <th>2</th>\n",
       "      <td>KNeighborsClassifier</td>\n",
       "      <td>0.943428</td>\n",
       "    </tr>\n",
       "    <tr>\n",
       "      <th>3</th>\n",
       "      <td>LinearSVC</td>\n",
       "      <td>0.760399</td>\n",
       "    </tr>\n",
       "    <tr>\n",
       "      <th>4</th>\n",
       "      <td>RandomForestClassifier</td>\n",
       "      <td>0.996672</td>\n",
       "    </tr>\n",
       "    <tr>\n",
       "      <th>5</th>\n",
       "      <td>DecisionTreeClassifier</td>\n",
       "      <td>0.995008</td>\n",
       "    </tr>\n",
       "  </tbody>\n",
       "</table>\n",
       "</div>"
      ],
      "text/plain": [
       "                   Method  Accuracy\n",
       "0        Keras Sequential  0.931780\n",
       "1        Naive/GaussianNB  0.901830\n",
       "2    KNeighborsClassifier  0.943428\n",
       "3               LinearSVC  0.760399\n",
       "4  RandomForestClassifier  0.996672\n",
       "5  DecisionTreeClassifier  0.995008"
      ]
     },
     "metadata": {},
     "output_type": "display_data"
    }
   ],
   "source": [
    "method=[]\n",
    "acc=[]\n",
    "\n",
    "y_pred=ks(X_train, y_train,X_test,200,0)\n",
    "title=\"Keras Sequential\"\n",
    "acc.append(accuracy_score(y_test, y_pred))\n",
    "method.append(title)\n",
    "\n",
    "y_pred=gnb(X_train, y_train,X_test,0)\n",
    "title=\"Naive/GaussianNB\"\n",
    "acc.append(accuracy_score(y_test, y_pred))\n",
    "method.append(title)\n",
    "\n",
    "y_pred=knn(X_train, y_train,X_test,0)\n",
    "title=\"KNeighborsClassifier\"\n",
    "acc.append(accuracy_score(y_test, y_pred))\n",
    "method.append(title)\n",
    "\n",
    "y_pred=svm(X_train, y_train,X_test,0);\n",
    "title=\"LinearSVC\"\n",
    "acc.append(accuracy_score(y_test, y_pred))\n",
    "method.append(title)\n",
    "\n",
    "y_pred=rfc(X_train, y_train,X_test,0)\n",
    "title=\"RandomForestClassifier\"\n",
    "acc.append(accuracy_score(y_test, y_pred))\n",
    "method.append(title)\n",
    "\n",
    "y_pred=dtc(X_train, y_train,X_test,0)\n",
    "title=\"DecisionTreeClassifier\"\n",
    "acc.append(accuracy_score(y_test, y_pred))\n",
    "method.append(title)\n",
    "\n",
    "data={'Method':method,'Accuracy':acc}\n",
    "data = pd.DataFrame(data)\n",
    "display(data)"
   ]
  },
  {
   "cell_type": "markdown",
   "id": "646aef49",
   "metadata": {},
   "source": [
    "Voidaan havaita, että ko. parametreilla syväsoppimismenetelmä tämän aineiston osalta ei loista selvästi vaan moni \\\n",
    "koneoppimismenetelmä ylsi parempaan tulokseen. Joten kannattaa vertailla/testailla eri menetelmiä sekä \\\n",
    "parametreja ja löytää paras menetelmä juuri ko. aineistolle.\\\n",
    "On mahdollista, että joissakin tapauksissa yksinkertaisemmat menetelmät voivat olla tehokkaampia ja/tai parempia \\\n",
    "vaihtoehtoja. Juuri näin taisi tässä harjoituksessa käydä."
   ]
  },
  {
   "cell_type": "markdown",
   "id": "76b7a38d",
   "metadata": {},
   "source": [
    "#### Aineistosta\n",
    "Aineisto 10 vuoden osalta ei ollut tasalaatuista koska dataa puuttui joistakin sarakkeista paljon. Datan esikäsittelyssä ei ollut ongelmia kun tunnisti puutteellisen sekä virheellisen datan.\n",
    "\n",
    "Puuttelinen data johtuu siitä, että osa datasta on tuotu toisesta palvelusta jolloin Strava ei nähtävästi käsittele dataa eli ei laske joitakin suureita vaan silloin vain kun uusi data on ladattu niin tiedot lisätään ja lasketaan.\n",
    "Osaltaan puutteellinen data johtui vanhemmasta mittausvälineistä sekä siitä että HR-mittausta ei ollut aina käytössä.  "
   ]
  },
  {
   "cell_type": "markdown",
   "id": "94a6c720",
   "metadata": {},
   "source": [
    "#### Luokittelusta\n",
    "Suuri osa suorituksista luokitellaan 4:n arvoisiksi. Ei ole kaukaa haettu, mutta voisi toki tehdä pientä hienosäätöä.\n",
    "Koska on kyse omasta datasta niin tärkeää olisi huomioida myös kokemuspohjainen ns. perstuntuma ja ottaa tämäkin huomioon yhtenä tekijänä luokitusrajojen määrittelyssä tehdessä. Nyt jako tehtiin maximin ja minimin väli jakamalla tasaisiin osiin."
   ]
  },
  {
   "cell_type": "code",
   "execution_count": 127,
   "id": "7d99ea87",
   "metadata": {},
   "outputs": [
    {
     "data": {
      "text/plain": [
       "4    1410\n",
       "3     586\n",
       "5     302\n",
       "2      94\n",
       "0       7\n",
       "1       5\n",
       "Name: Grade, dtype: int64"
      ]
     },
     "metadata": {},
     "output_type": "display_data"
    }
   ],
   "source": [
    "display(df3['Grade'].value_counts())"
   ]
  },
  {
   "cell_type": "markdown",
   "id": "b9318aa5",
   "metadata": {},
   "source": [
    "#### Kehitettävää\n",
    "Keras Sequentia syväoppimismalli on varmaankin yksinkertaisin mahdollinen tähän aineistoon. Mallia voisi kehittää lisäämällä kerroksia, kohtalaisen hyvin toimii \"karvalakki\"-versiollakin, mutta parannettavaa olisi muutamaan ML-menetelmään verrattuna.\n",
    "\n",
    "Luokittelussa olis voinut käyttää muitakin suureita mm. Calories mutta koska datassa (10 vuoden ajalta) oli paljon puutteita niin se heivattiin pois laskuista. Nythän on niin, että kaikki uusi data on eheämpää ja vähemmän puuttellista. Joten jatkossa uusimman datan (viime vuodet) perusteella voisi vertailun vuoksi kehittää luokittelua paremmaksi."
   ]
  },
  {
   "cell_type": "markdown",
   "id": "cd2ae92e",
   "metadata": {},
   "source": [
    "#### Huomioita\n",
    "Stravan maksullinen versio tarjoaa huomattavasti enemmän dataa analysoitavaksi. Myös säädataa on käytettävissä.\n",
    "https://www.strava.com/clubs/231407/posts/9470686 \\\n",
    "Mutta tämän harjoituksen kannalta oli hyvä, että vain oleellisin data oli tarjolla."
   ]
  }
 ],
 "metadata": {
  "jupytext": {
   "cell_metadata_filter": "-all",
   "main_language": "python",
   "notebook_metadata_filter": "-all"
  },
  "kernelspec": {
   "display_name": "Python 3 (ipykernel)",
   "language": "python",
   "name": "python3"
  },
  "language_info": {
   "codemirror_mode": {
    "name": "ipython",
    "version": 3
   },
   "file_extension": ".py",
   "mimetype": "text/x-python",
   "name": "python",
   "nbconvert_exporter": "python",
   "pygments_lexer": "ipython3",
   "version": "3.10.9"
  }
 },
 "nbformat": 4,
 "nbformat_minor": 5
}
